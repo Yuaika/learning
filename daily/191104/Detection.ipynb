{
 "cells": [
  {
   "cell_type": "code",
   "execution_count": 1,
   "metadata": {},
   "outputs": [],
   "source": [
    "import numpy as np\n",
    "import cv2 as cv\n",
    "src = cv.imread(\"C:/Users/86188/Desktop/3_color.png\")\n",
    "r=cv.selectROI(src)\n",
    "imCrop = src[int(r[1]):int(r[1]+r[3]), int(r[0]):int(r[0]+r[2])]\n",
    "cv.imshow(\"ROI\", imCrop)\n",
    "cv.imwrite(\"C:/Users/86188/Desktop/template.png\",imCrop)\n",
    "cv.waitKey(0)\n",
    "cv.destroyAllWindows()\n"
   ]
  },
  {
   "cell_type": "code",
   "execution_count": null,
   "metadata": {},
   "outputs": [],
   "source": [
    "二值化试验"
   ]
  },
  {
   "cell_type": "code",
   "execution_count": 19,
   "metadata": {},
   "outputs": [
    {
     "name": "stdout",
     "output_type": "stream",
     "text": [
      "(701, 405, 3)\n"
     ]
    }
   ],
   "source": [
    "import numpy as np\n",
    "import cv2 as cv\n",
    "src = cv.imread(\"C:/Users/86188/Desktop/template.png\")\n",
    "gray = cv.cvtColor(src, cv.COLOR_BGR2GRAY)\n",
    "cv.imshow(\"gray\",gray)\n",
    "dst = cv.GaussianBlur(gray, (5, 5), 3, 3)\n",
    "binary = cv.adaptiveThreshold(dst, 255, cv.ADAPTIVE_THRESH_MEAN_C, cv.THRESH_BINARY, 25, 10)\n",
    "se = cv.getStructuringElement(cv.MORPH_RECT, (5, 5), (-1, -1))\n",
    "binary = cv.morphologyEx(binary, cv.MORPH_OPEN, se)\n",
    "cv.imshow(\"binary\",binary)\n",
    "cv.waitKey(0)\n",
    "cv.destroyAllWindows()\n",
    "print(src.shape)"
   ]
  },
  {
   "cell_type": "code",
   "execution_count": 22,
   "metadata": {},
   "outputs": [
    {
     "name": "stdout",
     "output_type": "stream",
     "text": [
      "(720, 1280, 3)\n"
     ]
    }
   ],
   "source": [
    "import numpy as np\n",
    "import cv2 as cv\n",
    "src = cv.imread(\"C:/Users/86188/Desktop/test3_Color.png\")\n",
    "gray = cv.cvtColor(src, cv.COLOR_BGR2GRAY)\n",
    "cv.imshow(\"gray\",gray)\n",
    "dst = cv.GaussianBlur(gray, (5, 5), 3, 3)\n",
    "binary = cv.adaptiveThreshold(dst, 255, cv.ADAPTIVE_THRESH_MEAN_C, cv.THRESH_BINARY, 25, 10)\n",
    "se = cv.getStructuringElement(cv.MORPH_RECT, (5, 5), (-1, -1))\n",
    "binary = cv.morphologyEx(binary, cv.MORPH_OPEN, se)\n",
    "cv.imshow(\"binary\",binary)\n",
    "cv.waitKey(0)\n",
    "cv.destroyAllWindows()\n",
    "print(src.shape)"
   ]
  },
  {
   "cell_type": "code",
   "execution_count": null,
   "metadata": {},
   "outputs": [],
   "source": [
    "前景提取"
   ]
  },
  {
   "cell_type": "code",
   "execution_count": 39,
   "metadata": {},
   "outputs": [],
   "source": [
    "##利用颜色\n",
    "import numpy as np\n",
    "import cv2 as cv\n",
    "\n",
    "def process(image, opt=1):\n",
    "    hsv = cv.cvtColor(image, cv.COLOR_BGR2HSV)\n",
    "    mask = cv.inRange(hsv, (35, 70, 40), (75, 130, 125))\n",
    "    cv.imshow(\"mask1\",mask)\n",
    "    line = cv.getStructuringElement(cv.MORPH_RECT, (11, 11), (-1, -1))\n",
    "    mask = cv.morphologyEx(mask, cv.MORPH_CLOSE, line)\n",
    "    cv.imshow(\"mask2\",mask)\n",
    "    # 轮廓提取, 发现最大轮廓\n",
    "    out, contours, hierarchy = cv.findContours(mask, cv.RETR_EXTERNAL, cv.CHAIN_APPROX_SIMPLE)\n",
    "    index = -1\n",
    "    max = 0\n",
    "    for c in range(len(contours)):\n",
    "        area = cv.contourArea(contours[c])\n",
    "        if area > max:\n",
    "            max = area\n",
    "            index = c\n",
    "    # 绘制\n",
    "    if index >= 0:\n",
    "        rect = cv.minAreaRect(contours[index])\n",
    "        cx, cy = rect[0]\n",
    "        box = cv.boxPoints(rect)\n",
    "        box = np.int0(box)\n",
    "        cv.drawContours(src,[box],0,(0,0,255),2)\n",
    "        #cv.ellipse(image, rect, (0, 255, 0), 2, 8)\n",
    "        cv.circle(image, (np.int32(rect[0][0]), np.int32(rect[0][1])), 2, (255, 0, 0), 2, 8, 0)\n",
    "    return image\n",
    "\n",
    "src = cv.imread(\"C:/Users/86188/Desktop/test1_Color.png\")\n",
    "result=process(src)\n",
    "cv.imshow(\"result\",result)\n",
    "cv.waitKey(0)\n",
    "cv.destroyAllWindows()"
   ]
  },
  {
   "cell_type": "code",
   "execution_count": 1,
   "metadata": {},
   "outputs": [
    {
     "data": {
      "text/plain": [
       "<Figure size 640x480 with 1 Axes>"
      ]
     },
     "metadata": {},
     "output_type": "display_data"
    }
   ],
   "source": [
    "import numpy as np\n",
    "import cv2 as cv\n",
    "from matplotlib import pyplot as plt\n",
    "\n",
    "image = cv.imread(\"C:/Users/86188/Desktop/template.png\")\n",
    "hsv = cv.cvtColor(image, cv.COLOR_BGR2HSV)\n",
    "plt.imshow(hsv,cmap=None,interpolation = 'bicubic')\n",
    "plt.xticks([]),plt.yticks([])  #to hide tick values on X and Y axis\n",
    "plt.show()\n"
   ]
  },
  {
   "cell_type": "code",
   "execution_count": 9,
   "metadata": {},
   "outputs": [],
   "source": [
    "import numpy as np\n",
    "import cv2 as cv\n",
    "from matplotlib import pyplot as plt\n",
    "\n",
    "image = cv.imread(\"C:/Users/86188/Desktop/template.png\")\n",
    "hsv = cv.cvtColor(image, cv.COLOR_BGR2HSV)\n",
    "mask = cv.inRange(hsv, (28, 40, 50), (70, 130, 115))\n",
    "cv.imshow(\"m1\",mask)\n",
    "line = cv.getStructuringElement(cv.MORPH_RECT, (11, 11), (-1, -1))\n",
    "mask = cv.morphologyEx(mask, cv.MORPH_CLOSE, line)\n",
    "cv.imshow(\"m2\",mask)\n",
    "\n",
    "cv.waitKey(0)\n",
    "cv.destroyAllWindows()"
   ]
  },
  {
   "cell_type": "code",
   "execution_count": 41,
   "metadata": {},
   "outputs": [
    {
     "name": "stdout",
     "output_type": "stream",
     "text": [
      "480.0 640.0 -1.0 30.0\n"
     ]
    }
   ],
   "source": [
    "import cv2 as cv\n",
    "\n",
    "capture = cv.VideoCapture(0)\n",
    "height = capture.get(cv.CAP_PROP_FRAME_HEIGHT)\n",
    "width = capture.get(cv.CAP_PROP_FRAME_WIDTH)\n",
    "count = capture.get(cv.CAP_PROP_FRAME_COUNT)\n",
    "fps = capture.get(cv.CAP_PROP_FPS)\n",
    "print(height, width, count, fps)\n",
    "\n",
    "\n",
    "def process(image, opt=1):\n",
    "    hsv = cv.cvtColor(image, cv.COLOR_BGR2HSV)\n",
    "    mask = cv.inRange(hsv, (35, 70, 40), (75, 130, 125))\n",
    "    cv.imshow(\"mask1\",mask)\n",
    "    line = cv.getStructuringElement(cv.MORPH_RECT, (11, 11), (-1, -1))\n",
    "    mask = cv.morphologyEx(mask, cv.MORPH_CLOSE, line)\n",
    "    cv.imshow(\"mask2\",mask)\n",
    "    # 轮廓提取, 发现最大轮廓\n",
    "    out, contours, hierarchy = cv.findContours(mask, cv.RETR_EXTERNAL, cv.CHAIN_APPROX_SIMPLE)\n",
    "    index = -1\n",
    "    max = 0\n",
    "    for c in range(len(contours)):\n",
    "        area = cv.contourArea(contours[c])\n",
    "        if area > max:\n",
    "            max = area\n",
    "            index = c\n",
    "    # 绘制\n",
    "    if index >= 0:\n",
    "        rect = cv.minAreaRect(contours[index])\n",
    "        cx, cy = rect[0]\n",
    "        box = cv.boxPoints(rect)\n",
    "        box = np.int0(box)\n",
    "        cv.drawContours(src,[box],0,(0,0,255),2)\n",
    "        #cv.ellipse(image, rect, (0, 255, 0), 2, 8)\n",
    "        cv.circle(image, (np.int32(rect[0][0]), np.int32(rect[0][1])), 2, (255, 0, 0), 2, 8, 0)\n",
    "    return image\n",
    "\n",
    "\n",
    "index = 0\n",
    "while(True):\n",
    "    ret, frame = capture.read()\n",
    "    if ret is True:\n",
    "        cv.imshow(\"video-input\", frame)\n",
    "        c = cv.waitKey(50)\n",
    "        result = process(frame)\n",
    "        cv.imshow(\"result\", result)\n",
    "        if c == 27:  #ESC\n",
    "            break\n",
    "    else:\n",
    "        break\n",
    "cv.waitKey(0)\n",
    "cv.destroyAllWindows()"
   ]
  },
  {
   "cell_type": "code",
   "execution_count": null,
   "metadata": {},
   "outputs": [],
   "source": []
  }
 ],
 "metadata": {
  "kernelspec": {
   "display_name": "Python [conda env:conda-tf2.0] *",
   "language": "python",
   "name": "conda-env-conda-tf2.0-py"
  },
  "language_info": {
   "codemirror_mode": {
    "name": "ipython",
    "version": 3
   },
   "file_extension": ".py",
   "mimetype": "text/x-python",
   "name": "python",
   "nbconvert_exporter": "python",
   "pygments_lexer": "ipython3",
   "version": "3.6.9"
  }
 },
 "nbformat": 4,
 "nbformat_minor": 2
}

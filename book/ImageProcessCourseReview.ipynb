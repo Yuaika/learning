{
 "cells": [
  {
   "cell_type": "markdown",
   "metadata": {},
   "source": [
    "# 数字图像处理课程回顾"
   ]
  },
  {
   "cell_type": "code",
   "execution_count": null,
   "metadata": {},
   "outputs": [],
   "source": [
    "一.绪论\n",
    "\n",
    "图像处理的基本任务：\n",
    "1.图像增强（image enhancement）\n",
    "2.图像压缩（image compression）\n",
    "3.图像恢复（image restoration）\n",
    "4.图像特征提取（image feature extraction）\n",
    "\n",
    "图像处理的基本方法：\n",
    "1.灰度变换和空域滤波\n",
    "2.频域率处理\n",
    "\n",
    "图像处理系统：\n",
    "1.图像采集设备\n",
    "2.图像存储设备\n",
    "3.图像处理设备\n",
    "4.图像显示设备\n",
    "5.交互设备\n",
    "\n",
    "图像处理发展方向：\n",
    "1.系统标准化，智能化\n",
    "2.硬件研究\n",
    "3.理论与算法：小波分析，分形几何，形态学，模式识别\n"
   ]
  },
  {
   "cell_type": "code",
   "execution_count": null,
   "metadata": {},
   "outputs": [],
   "source": [
    "二.图像传感器\n"
   ]
  },
  {
   "cell_type": "code",
   "execution_count": null,
   "metadata": {},
   "outputs": [],
   "source": [
    "三.图像色彩\n",
    "\n",
    "色光三原色是指红、绿、蓝三色,各自对应的波长分别为700nm,546.1nm,435.8nm。\n",
    "\n",
    "色彩模型：\n",
    "1.RGB模型\n",
    "2.CMYK彩色模型\n",
    "3.HSV模型（色调，饱和度，亮度）\n",
    "4.YUV模型\n",
    "\n",
    "伪彩色处理\n"
   ]
  },
  {
   "cell_type": "code",
   "execution_count": null,
   "metadata": {},
   "outputs": [],
   "source": [
    "四.图像增强和平滑\n",
    "\n",
    "图像增强目标：增强对某种信息的辨别能力，主要依靠人的主观判断\n",
    "\n",
    "灰度直方图：直方图拉伸（灰度变换），直方图均衡（累计分布函数变换法）\n",
    "\n",
    "卷积，边界填充\n",
    "\n",
    "图像去噪：均值滤波，中值滤波，空间域低通滤波，频域低通滤波，多幅图像平均法\n",
    "\n",
    "图像锐化：根据梯度进行图像增强\n",
    "1.梯度算子：Robert算子，Prewitt算子，Sobel算子\n",
    "2.拉普拉斯算子，通常结合高斯滤波使用\n"
   ]
  },
  {
   "cell_type": "code",
   "execution_count": null,
   "metadata": {},
   "outputs": [],
   "source": [
    "五.边缘检测和图像分割\n",
    "\n",
    "边缘检测：\n",
    "一阶导数的幅度值可用来检测边缘的存在；通过检测二阶导数的过零点可以确定边缘的中心位置。\n",
    "梯度幅值表示边缘的强弱；梯度方向表示灰度变化最快的方向。\n",
    "1.Robert算子和Prewitt算子\n",
    "2.LoG算子\n",
    "3.Canny边缘检测：高斯滤波+计算梯度+NMS+双阈值检测边缘（高阈值是低阈值的两倍）+边缘连接\n",
    "4.边缘检测存在问题：抑制噪声的能力 定位精度 计算复杂度\n",
    "\n",
    "霍夫变换：检测直线，检测圆，检测任意曲线\n",
    "\n",
    "图像分割：\n",
    "1.阈值分割：全局阈值，局部阈值，自适应阈值\n",
    "下面是一种动态阈值方法：\n",
    "(1) 将整幅图像分解成一系列相互之间有50%重叠的子图像。\n",
    "(2) 检测各子图像的直方图是否具有双峰性质。如果是,则采用最优阈值法确定该子图像的阈值，否则不进行处理。　　\n",
    "(3) 根据已得到的部分子图像的阈值，插值得到其它不具备双峰性质的子图像的阈值。　\n",
    "(4) 根据各子图像的阈值插值得到所有像素的阈值。对于每个像素，如果其灰度值大于该点处的阈值，则分为目标像素，否则分为背景像素。\n",
    "\n",
    "2.基于区域的分割\n",
    "(1)区域生长\n",
    "(2)区域分裂和合并\n",
    "(3)区域标记和轮廓跟踪\n",
    "\n",
    "3.分水岭分割\n",
    "Vincent-Soille 算法\n",
    "\n",
    "4.投影法\n",
    "\n",
    "5.差影法\n",
    "多幅图像求平均降低加性噪声\n",
    "图像相减用于检测图像中的变化和运动物体\n",
    "乘法运算可以用来进行掩膜处理\n",
    "除法运算可以校正成像设备的非线性影响\n"
   ]
  },
  {
   "cell_type": "code",
   "execution_count": null,
   "metadata": {},
   "outputs": [],
   "source": [
    "六.图像复原\n"
   ]
  },
  {
   "cell_type": "code",
   "execution_count": null,
   "metadata": {},
   "outputs": [],
   "source": [
    "七.图像特征和理解\n",
    "\n",
    "1.几何特征\n",
    "位置，方向，周长，面积，长轴和短轴，最小外接矩形，距离\n",
    "\n",
    "2.形状特征\n",
    "矩形度，长宽比（可区分出细长的物体）\n",
    "圆形度\n",
    "球状性\n",
    "不变矩\n",
    "偏心率\n",
    "\n",
    "3.形状描述子\n",
    "边界链码，一阶差分链码，傅里叶描述子\n",
    "\n",
    "4.纹理分析\n",
    "\n",
    "5.中轴变换和股价提取\n",
    "\n",
    "6.曲线与表面拟合\n",
    "\n",
    "7.模板匹配\n"
   ]
  }
 ],
 "metadata": {
  "kernelspec": {
   "display_name": "Python [conda env:conda-tf2.0] *",
   "language": "python",
   "name": "conda-env-conda-tf2.0-py"
  },
  "language_info": {
   "codemirror_mode": {
    "name": "ipython",
    "version": 3
   },
   "file_extension": ".py",
   "mimetype": "text/x-python",
   "name": "python",
   "nbconvert_exporter": "python",
   "pygments_lexer": "ipython3",
   "version": "3.6.9"
  }
 },
 "nbformat": 4,
 "nbformat_minor": 2
}

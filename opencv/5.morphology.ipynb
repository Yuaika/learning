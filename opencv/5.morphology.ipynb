{
 "cells": [
  {
   "cell_type": "markdown",
   "metadata": {},
   "source": [
    "图像形态学"
   ]
  },
  {
   "cell_type": "markdown",
   "metadata": {},
   "source": [
    "1.腐蚀和膨胀"
   ]
  },
  {
   "cell_type": "code",
   "execution_count": 7,
   "metadata": {},
   "outputs": [],
   "source": [
    "import cv2 as cv\n",
    "import numpy as np\n",
    "\n",
    "src = cv.imread(\"C:/Users/86188/Desktop/test/other/shihuang.png\",0)\n",
    "cv.namedWindow(\"input\", cv.WINDOW_AUTOSIZE)\n",
    "\n",
    "\n",
    "# 使用3x3结构元素进行膨胀与腐蚀操作\n",
    "se = np.ones((3, 3), dtype=np.uint8)\n",
    "dilate = cv.dilate(src, se, None, (-1, -1), 1)\n",
    "erode = cv.erode(src, se, None, (-1, -1), 1)\n",
    "\n",
    "h, w = src.shape[:2]\n",
    "result = np.zeros([h, w*3], dtype=src.dtype)\n",
    "result[0:h,0:w] = src\n",
    "result[0:h,w:2*w] = dilate\n",
    "result[0:h,2*w:3*w] = erode\n",
    "cv.imshow(\"result\", result)\n",
    "cv.waitKey(0)\n",
    "cv.destroyAllWindows()"
   ]
  },
  {
   "cell_type": "markdown",
   "metadata": {},
   "source": [
    "定义结构元素：se = cv.getStructuringElement(int shape, Size ksize, Point anchor = Point(-1,-1s))"
   ]
  },
  {
   "cell_type": "code",
   "execution_count": null,
   "metadata": {},
   "outputs": [],
   "source": [
    "2.开操作=腐蚀+膨胀,去除独立块，断开连接"
   ]
  },
  {
   "cell_type": "code",
   "execution_count": 1,
   "metadata": {},
   "outputs": [],
   "source": [
    "import cv2 as cv\n",
    "import numpy as np\n",
    "\n",
    "src = cv.imread(\"C:/Users/86188/Desktop/test/other/shihuang.png\")\n",
    "cv.namedWindow(\"input\", cv.WINDOW_AUTOSIZE)\n",
    "cv.imshow(\"input\", src)\n",
    "\n",
    "# 高斯模糊去噪声\n",
    "gray = cv.cvtColor(src, cv.COLOR_BGR2GRAY)\n",
    "dst = cv.GaussianBlur(gray, (9, 9), 2, 2)\n",
    "binary = cv.adaptiveThreshold(dst, 255, cv.ADAPTIVE_THRESH_GAUSSIAN_C,\n",
    "                              cv.THRESH_BINARY_INV, 45, 15)\n",
    "cv.imshow(\"b\",binary)\n",
    "# 开操作\n",
    "se = cv.getStructuringElement(cv.MORPH_RECT, (5, 5), (-1, -1))\n",
    "binary = cv.morphologyEx(binary, cv.MORPH_OPEN, se)\n",
    "\n",
    "cv.imshow(\"binary\", binary)\n",
    "\n",
    "cv.waitKey(0)\n",
    "cv.destroyAllWindows()"
   ]
  },
  {
   "cell_type": "markdown",
   "metadata": {},
   "source": [
    "3.闭操作=膨胀+腐蚀，填充孔洞"
   ]
  },
  {
   "cell_type": "code",
   "execution_count": 11,
   "metadata": {},
   "outputs": [],
   "source": [
    "import cv2 as cv\n",
    "import numpy as np\n",
    "\n",
    "src = cv.imread(\"C:/Users/86188/Desktop/test/other/shihuang.png\")\n",
    "cv.namedWindow(\"input\", cv.WINDOW_AUTOSIZE)\n",
    "cv.imshow(\"input\", src)\n",
    "\n",
    "# 高斯模糊去噪声\n",
    "gray = cv.cvtColor(src, cv.COLOR_BGR2GRAY)\n",
    "ret, binary = cv.threshold(gray, 0, 255, cv.THRESH_BINARY | cv.THRESH_OTSU)\n",
    "cv.imshow(\"binary1\", binary)\n",
    "\n",
    "# 开操作\n",
    "se1 = cv.getStructuringElement(cv.MORPH_RECT, (25, 5), (-1, -1))\n",
    "se2 = cv.getStructuringElement(cv.MORPH_RECT, (5, 25), (-1, -1))\n",
    "binary = cv.morphologyEx(binary, cv.MORPH_CLOSE, se1)\n",
    "binary = cv.morphologyEx(binary, cv.MORPH_CLOSE, se2)\n",
    "\n",
    "cv.imshow(\"binary\", binary)\n",
    "\n",
    "cv.waitKey(0)\n",
    "cv.destroyAllWindows()"
   ]
  },
  {
   "cell_type": "markdown",
   "metadata": {},
   "source": [
    "4.开操作和闭操作的应用，提取某种形状或者吃掉某种形状\n",
    "下面是两个例子：填空题横线位置提取和吃掉小孔"
   ]
  },
  {
   "cell_type": "code",
   "execution_count": null,
   "metadata": {},
   "outputs": [],
   "source": [
    "import cv2 as cv\n",
    "import numpy as np\n",
    "\n",
    "def open_demo():\n",
    "    src = cv.imread(\"C:/Users/86188/Desktop/test/other/fill.png\")\n",
    "    cv.namedWindow(\"input\", cv.WINDOW_AUTOSIZE)\n",
    "    cv.imshow(\"input\", src)\n",
    "\n",
    "    # 图像二值化\n",
    "    gray = cv.cvtColor(src, cv.COLOR_BGR2GRAY)\n",
    "    ret, binary = cv.threshold(gray, 0, 255, cv.THRESH_BINARY_INV | cv.THRESH_OTSU)\n",
    "    cv.imshow(\"binary1\", binary)\n",
    "\n",
    "    # 开操作\n",
    "    se1 = cv.getStructuringElement(cv.MORPH_RECT, (20, 1), (-1, -1))\n",
    "    binary = cv.morphologyEx(binary, cv.MORPH_OPEN, se1)\n",
    "    cv.imshow(\"binary\", binary)\n",
    "\n",
    "    # 提取轮廓\n",
    "    out, contours, hierarchy = cv.findContours(binary, cv.RETR_EXTERNAL, cv.CHAIN_APPROX_SIMPLE)\n",
    "    for c in range(len(contours)):\n",
    "        x, y, w, h = cv.boundingRect(contours[c])\n",
    "        y = y - 10\n",
    "        h = 12\n",
    "        cv.rectangle(src, (x, y), (x+w, y+h), (0, 0, 255), 1, 8, 0)\n",
    "    cv.imshow(\"result\", src)\n",
    "\n",
    "open_demo()\n",
    "cv.waitKey(0)\n",
    "cv.destroyAllWindows()"
   ]
  },
  {
   "cell_type": "code",
   "execution_count": 17,
   "metadata": {},
   "outputs": [],
   "source": [
    "import cv2 as cv\n",
    "import numpy as np\n",
    "\n",
    "def close_demo():\n",
    "    src = cv.imread(\"C:/Users/86188/Desktop/test/other/morph3.png\")\n",
    "    cv.namedWindow(\"input\", cv.WINDOW_AUTOSIZE)\n",
    "    cv.imshow(\"input\", src)\n",
    "\n",
    "    # 图像二值化\n",
    "    gray = cv.cvtColor(src, cv.COLOR_BGR2GRAY)\n",
    "    ret, binary = cv.threshold(gray, 0, 255, cv.THRESH_BINARY | cv.THRESH_OTSU)\n",
    "\n",
    "    # 闭操作\n",
    "    se = cv.getStructuringElement(cv.MORPH_ELLIPSE, (65, 65), (-1, -1))\n",
    "    binary = cv.morphologyEx(binary, cv.MORPH_CLOSE, se)\n",
    "    cv.imshow(\"close\", binary)\n",
    "\n",
    "close_demo()\n",
    "cv.waitKey(0)\n",
    "cv.destroyAllWindows()"
   ]
  },
  {
   "cell_type": "code",
   "execution_count": null,
   "metadata": {},
   "outputs": [],
   "source": [
    "5.顶帽操作和黑帽操作\n",
    "顶帽 = 输入图像–开操作，分离亮的区域\n",
    "黑帽 = 闭操作–输入图像，分离暗的区域"
   ]
  },
  {
   "cell_type": "code",
   "execution_count": 18,
   "metadata": {},
   "outputs": [],
   "source": [
    "import cv2 as cv\n",
    "import numpy as np\n",
    "\n",
    "src = cv.imread(\"C:/Users/86188/Desktop/test/other/coins.jpg\")\n",
    "cv.namedWindow(\"input\", cv.WINDOW_AUTOSIZE)\n",
    "cv.imshow(\"input\", src)\n",
    "\n",
    "# 二值化\n",
    "gray = cv.cvtColor(src, cv.COLOR_BGR2GRAY)\n",
    "ret, binary = cv.threshold(gray, 0, 255, cv.THRESH_BINARY | cv.THRESH_OTSU)\n",
    "\n",
    "# 顶帽操作\n",
    "se = cv.getStructuringElement(cv.MORPH_RECT, (3, 3), (-1, -1))\n",
    "binary = cv.morphologyEx(binary, cv.MORPH_TOPHAT, se)\n",
    "\n",
    "\n",
    "cv.imshow(\"binary\", binary)\n",
    "\n",
    "cv.waitKey(0)\n",
    "cv.destroyAllWindows()"
   ]
  },
  {
   "cell_type": "code",
   "execution_count": 19,
   "metadata": {},
   "outputs": [],
   "source": [
    "import cv2 as cv\n",
    "import numpy as np\n",
    "\n",
    "src = cv.imread(\"C:/Users/86188/Desktop/test/other/coins.jpg\")\n",
    "cv.namedWindow(\"input\", cv.WINDOW_AUTOSIZE)\n",
    "cv.imshow(\"input\", src)\n",
    "\n",
    "# 图像二值化\n",
    "gray = cv.cvtColor(src, cv.COLOR_BGR2GRAY)\n",
    "ret, binary = cv.threshold(gray, 0, 255, cv.THRESH_BINARY | cv.THRESH_OTSU)\n",
    "\n",
    "# 黑帽操作\n",
    "se = cv.getStructuringElement(cv.MORPH_RECT, (9, 9), (-1, -1))\n",
    "binary = cv.morphologyEx(binary, cv.MORPH_BLACKHAT, se)\n",
    "\n",
    "\n",
    "cv.imshow(\"black hat\", binary)\n",
    "\n",
    "cv.waitKey(0)\n",
    "cv.destroyAllWindows()"
   ]
  },
  {
   "cell_type": "markdown",
   "metadata": {},
   "source": [
    "6.形态学梯度"
   ]
  },
  {
   "cell_type": "code",
   "execution_count": 20,
   "metadata": {},
   "outputs": [],
   "source": [
    "import cv2 as cv\n",
    "\n",
    "src = cv.imread(\"C:/Users/86188/Desktop/test/other/shihuang.png\")\n",
    "cv.namedWindow(\"input\", cv.WINDOW_AUTOSIZE)\n",
    "cv.imshow(\"input\", src)\n",
    "\n",
    "# 形态学梯度 - 基本梯度\n",
    "se = cv.getStructuringElement(cv.MORPH_RECT, (3, 3), (-1, -1))\n",
    "basic = cv.morphologyEx(src, cv.MORPH_GRADIENT, se)\n",
    "cv.imshow(\"basic gradient\", basic)\n",
    "\n",
    "# 外梯度\n",
    "dilate = cv.morphologyEx(src, cv.MORPH_DILATE, se)\n",
    "exteral = cv.subtract(dilate, src)\n",
    "cv.imshow(\"external gradient\", exteral)\n",
    "\n",
    "# 内梯度\n",
    "erode = cv.morphologyEx(src, cv.MORPH_ERODE, se)\n",
    "interal = cv.subtract(src, erode)\n",
    "cv.imshow(\"interal gradient\", interal)\n",
    "\n",
    "\n",
    "cv.waitKey(0)\n",
    "cv.destroyAllWindows()"
   ]
  },
  {
   "cell_type": "markdown",
   "metadata": {},
   "source": [
    "使用基本梯度实现轮廓分析"
   ]
  },
  {
   "cell_type": "code",
   "execution_count": 21,
   "metadata": {},
   "outputs": [],
   "source": [
    "import cv2 as cv\n",
    "\n",
    "src = cv.imread(\"C:/Users/86188/Desktop/test/other/kd.jpg\")\n",
    "cv.namedWindow(\"input\", cv.WINDOW_AUTOSIZE)\n",
    "cv.imshow(\"input\", src)\n",
    "\n",
    "# 形态学梯度 - 基本梯度\n",
    "se = cv.getStructuringElement(cv.MORPH_RECT, (3, 3), (-1, -1))\n",
    "basic = cv.morphologyEx(src, cv.MORPH_GRADIENT, se)\n",
    "cv.imshow(\"basic gradient\", basic)\n",
    "\n",
    "gray = cv.cvtColor(basic, cv.COLOR_BGR2GRAY)\n",
    "ret, binary = cv.threshold(gray, 0, 255, cv.THRESH_BINARY | cv.THRESH_OTSU)\n",
    "cv.imshow(\"binary\", binary)\n",
    "\n",
    "se = cv.getStructuringElement(cv.MORPH_RECT, (1, 5), (-1, -1))\n",
    "binary = cv.morphologyEx(binary, cv.MORPH_DILATE, se)\n",
    "out, contours, hierarchy = cv.findContours(binary, cv.RETR_EXTERNAL, cv.CHAIN_APPROX_SIMPLE)\n",
    "for c in range(len(contours)):\n",
    "    x, y, w, h = cv.boundingRect(contours[c])\n",
    "    area = cv.contourArea(contours[c])\n",
    "    if area < 200:\n",
    "        continue\n",
    "    if h > (3*w) or h < 20:\n",
    "        continue\n",
    "    cv.rectangle(src, (x, y), (x+w, y+h), (0, 0, 255), 1, 8, 0)\n",
    "\n",
    "cv.imshow(\"result\", src)\n",
    "cv.waitKey(0)\n",
    "cv.destroyAllWindows()"
   ]
  },
  {
   "cell_type": "markdown",
   "metadata": {},
   "source": [
    "7.击中击不中，类似于模板匹配"
   ]
  },
  {
   "cell_type": "code",
   "execution_count": 22,
   "metadata": {},
   "outputs": [],
   "source": [
    "import cv2 as cv\n",
    "import numpy as np\n",
    "\n",
    "src = cv.imread(\"C:/Users/86188/Desktop/test/other/cross.png\")\n",
    "cv.namedWindow(\"input\", cv.WINDOW_AUTOSIZE)\n",
    "cv.imshow(\"input\", src)\n",
    "\n",
    "# 图像二值化\n",
    "gray = cv.cvtColor(src, cv.COLOR_BGR2GRAY)\n",
    "ret, binary = cv.threshold(gray, 0, 255, cv.THRESH_BINARY_INV | cv.THRESH_OTSU)\n",
    "\n",
    "# 击中击不中\n",
    "se = cv.getStructuringElement(cv.MORPH_CROSS, (11, 11), (-1, -1))\n",
    "binary = cv.morphologyEx(binary, cv.MORPH_HITMISS, se)\n",
    "\n",
    "cv.imshow(\"black hat\", binary)\n",
    "\n",
    "cv.waitKey(0)\n",
    "cv.destroyAllWindows()"
   ]
  },
  {
   "cell_type": "markdown",
   "metadata": {},
   "source": [
    "8.图像去水印/修复"
   ]
  },
  {
   "cell_type": "code",
   "execution_count": 30,
   "metadata": {},
   "outputs": [],
   "source": [
    "import cv2 as cv\n",
    "\n",
    "if __name__ == '__main__':\n",
    "    src = cv.imread(\"C:/Users/86188/Desktop/test/other/wm.jpg\")\n",
    "    cv.imshow(\"watermark image\", src)\n",
    "    hsv = cv.cvtColor(src, cv.COLOR_BGR2HSV)\n",
    "    cv.imshow('hsv',hsv)\n",
    "    #cv.imwrite(\"C:/Users/86188/Desktop/hsv.jpg\", hsv)\n",
    "    #mask = cv.inRange(hsv, (100, 43, 46), (124, 255, 255))\n",
    "    mask = cv.inRange(hsv, (110, 2, 239), (112, 4, 241))\n",
    "    cv.imshow(\"mask\", mask)\n",
    "    #cv.imwrite(\"D:/mask.png\", mask)\n",
    "    se = cv.getStructuringElement(cv.MORPH_RECT, (5, 5))\n",
    "    cv.dilate(mask, se, mask)\n",
    "    result = cv.inpaint(src, mask, 3, cv.INPAINT_TELEA)\n",
    "    cv.imshow(\"result\", result)\n",
    "    #cv.imwrite(\"D:/result.png\", result)\n",
    "    cv.waitKey(0)\n",
    "    cv.destroyAllWindows()"
   ]
  },
  {
   "cell_type": "markdown",
   "metadata": {},
   "source": [
    "9.图像透视变换应用"
   ]
  },
  {
   "cell_type": "code",
   "execution_count": 25,
   "metadata": {},
   "outputs": [
    {
     "name": "stdout",
     "output_type": "stream",
     "text": [
      "-40.002540588378906\n",
      "(515.14404296875, 506.37188720703125)\n",
      "(833.6321411132812, 625.2869262695312)\n",
      "[[ 396 1013]\n",
      " [  -5  534]\n",
      " [ 633   -1]\n",
      " [1035  477]]\n"
     ]
    }
   ],
   "source": [
    "import cv2 as cv\n",
    "import numpy as np\n",
    "\n",
    "src = cv.imread(\"C:/Users/86188/Desktop/test/other/st_02.png\")\n",
    "cv.namedWindow(\"input\", cv.WINDOW_AUTOSIZE)\n",
    "cv.imshow(\"input\", src)\n",
    "\n",
    "# 图像二值化\n",
    "gray = cv.cvtColor(src, cv.COLOR_BGR2GRAY)\n",
    "ret, binary = cv.threshold(gray, 0, 255, cv.THRESH_BINARY_INV | cv.THRESH_OTSU)\n",
    "cv.imshow(\"yuzhi\", binary)\n",
    "\n",
    "se = cv.getStructuringElement(cv.MORPH_RECT, (3, 3), (-1, -1))\n",
    "binary = cv.morphologyEx(binary, cv.MORPH_OPEN, se)\n",
    "cv.imshow(\"binary\", binary)\n",
    "\n",
    "# 轮廓提取, 发现最大轮廓\n",
    "out, contours, hierarchy = cv.findContours(binary, cv.RETR_EXTERNAL, cv.CHAIN_APPROX_SIMPLE)\n",
    "index = 0\n",
    "max = 0\n",
    "for c in range(len(contours)):\n",
    "    area = cv.contourArea(contours[c])\n",
    "    if area > max:\n",
    "        max = area\n",
    "        index = c\n",
    "\n",
    "# 寻找最小外接矩形\n",
    "rect = cv.minAreaRect(contours[index])\n",
    "print(rect[2])\n",
    "print(rect[0])\n",
    "# trick\n",
    "height, width = rect[1]\n",
    "print(rect[1])\n",
    "box = cv.boxPoints(rect)\n",
    "src_pts = np.int0(box)\n",
    "print(src_pts)\n",
    "\n",
    "dst_pts = []\n",
    "dst_pts.append([width,height])\n",
    "dst_pts.append([0, height])\n",
    "dst_pts.append([0, 0])\n",
    "dst_pts.append([width, 0])\n",
    "\n",
    "# 透视变换\n",
    "M, status = cv.findHomography(src_pts, np.array(dst_pts))\n",
    "result = cv.warpPerspective(src, M, (np.int32(width), np.int32(height)))\n",
    "\n",
    "if height < width:\n",
    "    result = cv.rotate(result, cv.ROTATE_90_CLOCKWISE)\n",
    "\n",
    "cv.imshow(\"result\", result)\n",
    "\n",
    "cv.waitKey(0)\n",
    "cv.destroyAllWindows()"
   ]
  },
  {
   "cell_type": "code",
   "execution_count": 21,
   "metadata": {},
   "outputs": [],
   "source": [
    "import cv2 as cv\n",
    "import numpy as np\n",
    "\n",
    "src = cv.imread(\"C:/Users/86188/Desktop/st01.jpg\")\n",
    "cv.namedWindow(\"input\", cv.WINDOW_AUTOSIZE)\n",
    "cv.imshow(\"input\", src)\n",
    "\n",
    "roi=src[35:1028,8:1042]\n",
    "cv.namedWindow(\"roi\", cv.WINDOW_NORMAL)\n",
    "cv.imshow(\"roi\", roi)\n",
    "cv.imwrite(\"C:/Users/86188/Desktop/test/other/st_02.png\",roi)\n",
    "cv.waitKey(0)\n",
    "cv.destroyAllWindows()"
   ]
  },
  {
   "cell_type": "code",
   "execution_count": null,
   "metadata": {},
   "outputs": [],
   "source": []
  }
 ],
 "metadata": {
  "kernelspec": {
   "display_name": "Python [conda env:conda-tf2.0] *",
   "language": "python",
   "name": "conda-env-conda-tf2.0-py"
  },
  "language_info": {
   "codemirror_mode": {
    "name": "ipython",
    "version": 3
   },
   "file_extension": ".py",
   "mimetype": "text/x-python",
   "name": "python",
   "nbconvert_exporter": "python",
   "pygments_lexer": "ipython3",
   "version": "3.6.9"
  }
 },
 "nbformat": 4,
 "nbformat_minor": 2
}

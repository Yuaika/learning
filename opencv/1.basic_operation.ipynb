{
 "cells": [
  {
   "cell_type": "markdown",
   "metadata": {},
   "source": [
    "# imread and imshow"
   ]
  },
  {
   "cell_type": "markdown",
   "metadata": {},
   "source": [
    "读取和显示:cv.imread,cv.namedWindow,cv.waitKey,cv.destroyAllWindows"
   ]
  },
  {
   "cell_type": "code",
   "execution_count": 1,
   "metadata": {},
   "outputs": [],
   "source": [
    "import numpy as np\n",
    "import cv2\n",
    "img1=cv2.imread(\"C:/Users/86188/Desktop/test/other/yuanz.png\",0)\n",
    "img2=cv2.imread(\"C:/Users/86188/Desktop/test/other/yuanz.png\",1)\n",
    "cv2.namedWindow('color1',cv2.WINDOW_NORMAL)\n",
    "cv2.imshow('color1',img1)\n",
    "cv2.waitKey(0)\n",
    "cv2.destroyAllWindows()\n",
    "cv2.namedWindow('color2',cv2.WINDOW_AUTOSIZE)\n",
    "cv2.imshow('color2',img1)\n",
    "cv2.waitKey(0)\n",
    "cv2.destroyAllWindows()\n",
    "cv2.namedWindow('gray1',cv2.WINDOW_NORMAL)\n",
    "cv2.imshow('gray1',img2)\n",
    "cv2.waitKey(0)\n",
    "cv2.destroyAllWindows()\n",
    "cv2.namedWindow('gray2',cv2.WINDOW_AUTOSIZE)\n",
    "cv2.imshow('gray2',img2)\n",
    "cv2.waitKey(0)\n",
    "cv2.destroyAllWindows()"
   ]
  },
  {
   "cell_type": "code",
   "execution_count": null,
   "metadata": {},
   "outputs": [],
   "source": [
    "保存图片:cv.imwrite"
   ]
  },
  {
   "cell_type": "code",
   "execution_count": 3,
   "metadata": {},
   "outputs": [
    {
     "data": {
      "text/plain": [
       "True"
      ]
     },
     "execution_count": 3,
     "metadata": {},
     "output_type": "execute_result"
    }
   ],
   "source": [
    "import numpy as np\n",
    "import cv2\n",
    "img=cv2.imread(\"C:/Users/86188/Desktop/test/other/jinpika.jpg\",1)\n",
    "cv2.imwrite(\"C:/Users/86188/Desktop/jinpika.jpg\",img)"
   ]
  },
  {
   "cell_type": "markdown",
   "metadata": {},
   "source": [
    "色彩空间转换:cv.cvtColor"
   ]
  },
  {
   "cell_type": "code",
   "execution_count": 2,
   "metadata": {},
   "outputs": [],
   "source": [
    "import numpy as np\n",
    "import cv2\n",
    "img=cv2.imread(\"C:/Users/86188/Desktop/test/other/jinpika.jpg\",1)\n",
    "cv2.namedWindow('color',cv2.WINDOW_NORMAL)\n",
    "cv2.imshow('color',img)\n",
    "gray=cv2.cvtColor(img,cv2.COLOR_BGR2GRAY)\n",
    "cv2.namedWindow('gray',cv2.WINDOW_NORMAL)\n",
    "cv2.imshow('gray',gray)\n",
    "cv2.waitKey(0)\n",
    "cv2.destroyAllWindows()\n"
   ]
  },
  {
   "cell_type": "code",
   "execution_count": null,
   "metadata": {},
   "outputs": [],
   "source": [
    "创建图像，改变窗口大小:cv.resizeWindow,np.zeros(shape,dtype)"
   ]
  },
  {
   "cell_type": "code",
   "execution_count": 14,
   "metadata": {},
   "outputs": [],
   "source": [
    "import cv2 as cv\n",
    "import numpy as np\n",
    "\n",
    "src = cv.imread(\"C:/Users/86188/Desktop/test/other/jinpika.jpg\",1)\n",
    "cv.namedWindow(\"input\", cv.WINDOW_NORMAL)\n",
    "cv.resizeWindow(\"input\", 360, 480)\n",
    "cv.imshow(\"input\", src)\n",
    "\n",
    "# 克隆图像\n",
    "m1 = np.copy(src)\n",
    "\n",
    "# 赋值\n",
    "m2 = src\n",
    "src[100:200,200:300,:] = 255\n",
    "cv.imshow(\"m1\",m1)\n",
    "cv.imshow(\"m2\",m2)\n",
    "\n",
    "m3 = np.zeros(src.shape, src.dtype)\n",
    "cv.imshow(\"m3\", m3)\n",
    "\n",
    "m4 = np.zeros([512,512], np.uint8)\n",
    "m4[:,:] =127 #try to give gray value 127\n",
    "cv.imshow(\"m4\", m4)\n",
    "\n",
    "m5 = np.ones(shape=[512,512,3], dtype=np.uint8)\n",
    "#蓝色通道\n",
    "m5[:,:,0] = 255\n",
    "m5[:,:,1] = 255\n",
    "cv.imshow(\"m5\", m5)\n",
    "\n",
    "cv.waitKey(0)\n",
    "cv.destroyAllWindows()"
   ]
  },
  {
   "cell_type": "code",
   "execution_count": null,
   "metadata": {},
   "outputs": [],
   "source": [
    "像素操作,形状,对像素赋值:src.shape,src[y,x]"
   ]
  },
  {
   "cell_type": "code",
   "execution_count": 2,
   "metadata": {},
   "outputs": [
    {
     "name": "stdout",
     "output_type": "stream",
     "text": [
      "h , w, ch 403 285 3\n"
     ]
    }
   ],
   "source": [
    "import cv2 as cv\n",
    "\n",
    "src = cv.imread(\"C:/Users/86188/Desktop/test/other/shihuang.png\")\n",
    "cv.imshow(\"input\", src)\n",
    "h, w, ch = src.shape\n",
    "print(\"h , w, ch\", h, w, ch)\n",
    "for row in range(h):\n",
    "    for col in range(w):\n",
    "        b, g, r = src[row, col]\n",
    "        b = 255 - b\n",
    "        g = 255 - g\n",
    "        r = 255 - r\n",
    "        src[row, col] = [b, g, r]\n",
    "cv.imshow(\"output\", src)\n",
    "\n",
    "cv.waitKey(0)\n",
    "cv.destroyAllWindows()"
   ]
  },
  {
   "cell_type": "code",
   "execution_count": null,
   "metadata": {},
   "outputs": [],
   "source": [
    "像素算术,加减乘除:cv.add,cv.subtract,cv.multiply,cv.divide"
   ]
  },
  {
   "cell_type": "code",
   "execution_count": 1,
   "metadata": {},
   "outputs": [
    {
     "name": "stdout",
     "output_type": "stream",
     "text": [
      "h , w, ch 403 285 3\n"
     ]
    }
   ],
   "source": [
    "import cv2 as cv\n",
    "import numpy as np\n",
    "\n",
    "src1 = cv.imread(\"C:/Users/86188/Desktop/test/other/shihuang.png\")\n",
    "src2 = cv.imread(\"C:/Users/86188/Desktop/test/other/shihuang.png\")\n",
    "cv.imshow(\"input1\", src1)\n",
    "cv.imshow(\"input2\", src2)\n",
    "h, w, ch = src1.shape\n",
    "print(\"h , w, ch\", h, w, ch)\n",
    "\n",
    "add_result = np.zeros(src1.shape, src1.dtype)\n",
    "cv.add(src1, src2, add_result)\n",
    "cv.imshow(\"add_result\", add_result)\n",
    "\n",
    "sub_result = np.zeros(src1.shape, src1.dtype)\n",
    "cv.subtract(src1, src2, sub_result)\n",
    "cv.imshow(\"sub_result\", sub_result)\n",
    "\n",
    "mul_result = np.zeros(src1.shape, src1.dtype)\n",
    "cv.multiply(src1, src2, mul_result)\n",
    "cv.imshow(\"mul_result\", mul_result)\n",
    "\n",
    "div_result = np.zeros(src1.shape, src1.dtype)\n",
    "cv.divide(src1, src2, div_result)\n",
    "cv.imshow(\"div_result\", div_result)\n",
    "\n",
    "cv.waitKey(0)\n",
    "cv.destroyAllWindows()\n",
    "\n"
   ]
  },
  {
   "cell_type": "code",
   "execution_count": null,
   "metadata": {},
   "outputs": [],
   "source": [
    "伪彩色：cv.applyColorMap(有十二种属性和自定义属性)"
   ]
  },
  {
   "cell_type": "code",
   "execution_count": 2,
   "metadata": {},
   "outputs": [],
   "source": [
    "import cv2 as cv\n",
    "\n",
    "src = cv.imread(\"C:/Users/86188/Desktop/test/other/shihuang.png\")\n",
    "cv.namedWindow(\"input\", cv.WINDOW_AUTOSIZE)\n",
    "cv.imshow(\"input\", src)\n",
    "dst = cv.applyColorMap(src, cv.COLORMAP_COOL)\n",
    "cv.imshow(\"output\", dst)\n",
    "\n",
    "# 伪色彩\n",
    "image = cv.imread(\"C:/Users/86188/Desktop/test/other/shihuang.png\")\n",
    "color_image = cv.applyColorMap(image, cv.COLORMAP_JET)\n",
    "cv.imshow(\"image\", image)\n",
    "cv.imshow(\"color_image\", color_image)\n",
    "cv.waitKey(0)\n",
    "cv.destroyAllWindows()\n"
   ]
  },
  {
   "cell_type": "code",
   "execution_count": null,
   "metadata": {},
   "outputs": [],
   "source": [
    "像素逻辑运算：与cv.bitwise_and 或cv.bitwise_or 异或cv.bitwise_xor 非cv.bitwise_not"
   ]
  },
  {
   "cell_type": "code",
   "execution_count": 1,
   "metadata": {},
   "outputs": [],
   "source": [
    "import cv2 as cv\n",
    "import numpy as np\n",
    "\n",
    "# create image one\n",
    "src1 = np.zeros(shape=[400, 400, 3], dtype=np.uint8)\n",
    "src1[100:200, 100:200, 1] = 255\n",
    "src1[100:200, 100:200, 2] = 255\n",
    "cv.imshow(\"input1\", src1)\n",
    "# create image two\n",
    "src2 = np.zeros(shape=[400, 400, 3], dtype=np.uint8)\n",
    "src2[150:250, 150:250, 2] = 255\n",
    "cv.imshow(\"input2\", src2)\n",
    "\n",
    "dst1 = cv.bitwise_and(src1, src2)\n",
    "dst2 = cv.bitwise_xor(src1, src2)\n",
    "dst3 = cv.bitwise_or(src1, src2)\n",
    "\n",
    "\n",
    "cv.imshow(\"dst1\", dst1)\n",
    "cv.imshow(\"dst2\", dst2)\n",
    "cv.imshow(\"dst3\", dst3)\n",
    "\n",
    "src = cv.imread(\"C:/Users/86188/Desktop/test/other/shihuang.png\")\n",
    "cv.namedWindow(\"input\", cv.WINDOW_NORMAL)\n",
    "cv.imshow(\"input\", src)\n",
    "dst = cv.bitwise_not(src)\n",
    "cv.imshow(\"dst\", dst)\n",
    "\n",
    "cv.waitKey(0)\n",
    "cv.destroyAllWindows()"
   ]
  },
  {
   "cell_type": "code",
   "execution_count": null,
   "metadata": {},
   "outputs": [],
   "source": [
    "色彩通道分离和混合：cv.split,cv.merge,cv.mixChannels"
   ]
  },
  {
   "cell_type": "code",
   "execution_count": 2,
   "metadata": {},
   "outputs": [],
   "source": [
    "import cv2 as cv\n",
    "\n",
    "src = cv.imread(\"C:/Users/86188/Desktop/test/other/shihuang.png\")\n",
    "cv.namedWindow(\"input\", cv.WINDOW_AUTOSIZE)\n",
    "cv.imshow(\"input\", src)\n",
    "\n",
    "# 蓝色通道为零\n",
    "mv = cv.split(src)\n",
    "mv[0][:, :] = 0\n",
    "dst1 = cv.merge(mv)\n",
    "cv.imshow(\"output1\", dst1)\n",
    "\n",
    "# 绿色通道为零\n",
    "mv = cv.split(src)\n",
    "mv[1][:, :] = 0\n",
    "dst2 = cv.merge(mv)\n",
    "cv.imshow(\"output2\", dst2)\n",
    "\n",
    "# 红色通道为零\n",
    "mv = cv.split(src)\n",
    "mv[2][:, :] = 0\n",
    "dst3 = cv.merge(mv)\n",
    "cv.imshow(\"output3\", dst3)\n",
    "#意思是将src中的第2通道拷贝到第dst的第0通道，第1通道拷贝到第1通道，第0通道拷贝道第2通道\n",
    "cv.mixChannels(src, dst3, [2, 0, 1, 1, 0, 2])\n",
    "cv.imshow(\"output4\", dst3)\n",
    "\n",
    "cv.waitKey(0)\n",
    "cv.destroyAllWindows()"
   ]
  },
  {
   "cell_type": "code",
   "execution_count": null,
   "metadata": {},
   "outputs": [],
   "source": [
    "color space conversion：cv.cvtColor,cv.inRange"
   ]
  },
  {
   "cell_type": "code",
   "execution_count": 10,
   "metadata": {},
   "outputs": [],
   "source": [
    "import cv2 as cv\n",
    "\n",
    "src = cv.imread(\"C:/Users/86188/Desktop/test/other/shihuang.png\")\n",
    "cv.namedWindow(\"rgb\", cv.WINDOW_AUTOSIZE)\n",
    "cv.imshow(\"rgb\", src)\n",
    "\n",
    "# RGB to HSV\n",
    "hsv = cv.cvtColor(src, cv.COLOR_BGR2HSV)\n",
    "cv.imshow(\"hsv\", hsv)\n",
    "\n",
    "# RGB to YUV\n",
    "yuv = cv.cvtColor(src, cv.COLOR_BGR2YUV)\n",
    "cv.imshow(\"yuv\", yuv)\n",
    "\n",
    "# RGB to YUV\n",
    "ycrcb = cv.cvtColor(src, cv.COLOR_BGR2YCrCb)\n",
    "cv.imshow(\"ycrcb\", ycrcb)\n",
    "\n",
    "src2 = cv.imread(\"C:/Users/86188/Desktop/test/other/shihuang.png\");\n",
    "cv.imshow(\"src2\", src2)\n",
    "hsv = cv.cvtColor(src2, cv.COLOR_BGR2HSV)\n",
    "#inrange三通道阈值函数，在阈值区间内的设为白色，否则设为黑色\n",
    "mask = cv.inRange(hsv, (35, 43, 46), (99, 255, 255))\n",
    "cv.imshow(\"mask\", mask)\n",
    "\n",
    "cv.waitKey(0)\n",
    "cv.destroyAllWindows()\n"
   ]
  },
  {
   "cell_type": "code",
   "execution_count": null,
   "metadata": {},
   "outputs": [],
   "source": [
    "统计像素特征：最大值和最小值及其位置min, max, minLoc, maxLoc = cv.minMaxLoc(src)，均值和方差means, stddev = cv.meanStdDev(src)"
   ]
  },
  {
   "cell_type": "code",
   "execution_count": 4,
   "metadata": {},
   "outputs": [
    {
     "name": "stdout",
     "output_type": "stream",
     "text": [
      "min: 0.00, max: 255.00\n",
      "min loc:  (262, 93)\n",
      "max loc:  (87, 9)\n",
      "mean: 195.33, stddev: 55.24\n"
     ]
    }
   ],
   "source": [
    "import cv2 as cv\n",
    "import numpy as np\n",
    "\n",
    "src = cv.imread(\"C:/Users/86188/Desktop/test/other/shihuang.png\", cv.IMREAD_GRAYSCALE)\n",
    "cv.namedWindow(\"input\", cv.WINDOW_AUTOSIZE)\n",
    "cv.imshow(\"input\", src)\n",
    "\n",
    "min, max, minLoc, maxLoc = cv.minMaxLoc(src)\n",
    "print(\"min: %.2f, max: %.2f\"% (min, max))\n",
    "print(\"min loc: \", minLoc)\n",
    "print(\"max loc: \", maxLoc)\n",
    "\n",
    "means, stddev = cv.meanStdDev(src)\n",
    "print(\"mean: %.2f, stddev: %.2f\"% (means, stddev))\n",
    "src[np.where(src < means)] = 0\n",
    "src[np.where(src > means)] = 255\n",
    "cv.imshow(\"binary\", src)\n",
    "\n",
    "cv.waitKey(0)\n",
    "cv.destroyAllWindows()"
   ]
  },
  {
   "cell_type": "code",
   "execution_count": null,
   "metadata": {},
   "outputs": [],
   "source": [
    "图像归一化：cv.normalize"
   ]
  },
  {
   "cell_type": "code",
   "execution_count": 1,
   "metadata": {},
   "outputs": [
    {
     "name": "stdout",
     "output_type": "stream",
     "text": [
      "[[215. 222. 220. ... 225. 227. 221.]\n",
      " [222. 231. 228. ... 236. 238. 230.]\n",
      " [222. 229. 228. ... 235. 237. 227.]\n",
      " ...\n",
      " [199. 205. 204. ... 214. 214. 206.]\n",
      " [199. 207. 205. ... 216. 217. 207.]\n",
      " [193. 199. 198. ... 208. 208. 200.]]\n",
      "[[0.8412699  0.86904764 0.86111116 ... 0.8809524  0.88888896 0.8650794 ]\n",
      " [0.86904764 0.90476197 0.8928572  ... 0.9246032  0.93253976 0.90079373]\n",
      " [0.86904764 0.89682543 0.8928572  ... 0.920635   0.92857146 0.88888896]\n",
      " ...\n",
      " [0.77777785 0.80158734 0.7976191  ... 0.8373016  0.8373016  0.8055556 ]\n",
      " [0.77777785 0.8095239  0.80158734 ... 0.84523815 0.8492064  0.8095239 ]\n",
      " [0.7539683  0.77777785 0.77380955 ... 0.8134921  0.8134921  0.7817461 ]]\n",
      "[[0.8431373  0.8705883  0.86274517 ... 0.882353   0.89019614 0.86666673]\n",
      " [0.8705883  0.9058824  0.8941177  ... 0.92549026 0.9333334  0.90196085]\n",
      " [0.8705883  0.8980393  0.8941177  ... 0.9215687  0.9294118  0.89019614]\n",
      " ...\n",
      " [0.7803922  0.80392164 0.8000001  ... 0.83921576 0.83921576 0.8078432 ]\n",
      " [0.7803922  0.8117648  0.80392164 ... 0.8470589  0.85098046 0.8117648 ]\n",
      " [0.7568628  0.7803922  0.77647066 ... 0.81568635 0.81568635 0.7843138 ]]\n",
      "[[9.64341689e-06 9.95738901e-06 9.86768282e-06 ... 1.00919478e-05\n",
      "  1.01816540e-05 9.91253546e-06]\n",
      " [9.95738901e-06 1.03610664e-05 1.02265076e-05 ... 1.05853323e-05\n",
      "  1.06750385e-05 1.03162138e-05]\n",
      " [9.95738901e-06 1.02713602e-05 1.02265076e-05 ... 1.05404788e-05\n",
      "  1.06301850e-05 1.01816540e-05]\n",
      " ...\n",
      " [8.92576736e-06 9.19488593e-06 9.15003329e-06 ... 9.59856425e-06\n",
      "  9.59856425e-06 9.23973948e-06]\n",
      " [8.92576736e-06 9.28459212e-06 9.19488593e-06 ... 9.68827044e-06\n",
      "  9.73312308e-06 9.28459212e-06]\n",
      " [8.65664879e-06 8.92576736e-06 8.88091472e-06 ... 9.32944567e-06\n",
      "  9.32944567e-06 8.97062091e-06]]\n",
      "[[0.00313965 0.00324188 0.00321267 ... 0.00328568 0.00331489 0.00322727]\n",
      " [0.00324188 0.0033733  0.00332949 ... 0.00344632 0.00347552 0.0033587 ]\n",
      " [0.00324188 0.0033441  0.00332949 ... 0.00343172 0.00346092 0.00331489]\n",
      " ...\n",
      " [0.00290601 0.00299362 0.00297902 ... 0.00312505 0.00312505 0.00300823]\n",
      " [0.00290601 0.00302283 0.00299362 ... 0.00315426 0.00316886 0.00302283]\n",
      " [0.00281839 0.00290601 0.0028914  ... 0.00303743 0.00303743 0.00292061]]\n"
     ]
    }
   ],
   "source": [
    "import cv2 as cv\n",
    "import numpy as np\n",
    "\n",
    "src = cv.imread(\"C:/Users/86188/Desktop/test/other/shihuang.png\")\n",
    "cv.namedWindow(\"input\", cv.WINDOW_AUTOSIZE)\n",
    "cv.imshow(\"input\", src)\n",
    "gray = cv.cvtColor(src, cv.COLOR_BGR2GRAY)\n",
    "\n",
    "# 转换为浮点数类型数组\n",
    "gray = np.float32(gray)\n",
    "print(gray)\n",
    "\n",
    "# scale and shift by NORM_MINMAX\n",
    "#线性归一化\n",
    "dst = np.zeros(gray.shape, dtype=np.float32)\n",
    "cv.normalize(gray, dst=dst, alpha=0, beta=1.0, norm_type=cv.NORM_MINMAX)\n",
    "print(dst)\n",
    "cv.imshow(\"NORM_MINMAX\", np.uint8(dst*255))\n",
    "\n",
    "# scale and shift by NORM_INF\n",
    "#切比雪夫距离，L∞范数\n",
    "dst = np.zeros(gray.shape, dtype=np.float32)\n",
    "cv.normalize(gray, dst=dst, alpha=1.0, beta=0, norm_type=cv.NORM_INF)\n",
    "print(dst)\n",
    "cv.imshow(\"NORM_INF\", np.uint8(dst*255))\n",
    "\n",
    "# scale and shift by NORM_L1\n",
    "#L1范数\n",
    "dst = np.zeros(gray.shape, dtype=np.float32)\n",
    "cv.normalize(gray, dst=dst, alpha=1.0, beta=0, norm_type=cv.NORM_L1)\n",
    "print(dst)\n",
    "cv.imshow(\"NORM_L1\", np.uint8(dst*10000000))\n",
    "\n",
    "# scale and shift by NORM_L2\n",
    "#L2范数\n",
    "dst = np.zeros(gray.shape, dtype=np.float32)\n",
    "cv.normalize(gray, dst=dst, alpha=1.0, beta=0, norm_type=cv.NORM_L2)\n",
    "print(dst)\n",
    "cv.imshow(\"NORM_L2\", np.uint8(dst*10000))\n",
    "\n",
    "cv.waitKey(0)\n",
    "cv.destroyAllWindows()"
   ]
  },
  {
   "cell_type": "code",
   "execution_count": null,
   "metadata": {},
   "outputs": [],
   "source": [
    "摄像头和视频：cv.VideoCapture(0)"
   ]
  },
  {
   "cell_type": "code",
   "execution_count": 1,
   "metadata": {},
   "outputs": [
    {
     "name": "stdout",
     "output_type": "stream",
     "text": [
      "480.0 640.0 -1.0 30.0\n"
     ]
    }
   ],
   "source": [
    "import cv2 as cv\n",
    "import numpy as np\n",
    "\n",
    "\n",
    "#capture = cv.VideoCapture(\"C:/Users/86188/Desktop/test/other/test.avi\")\n",
    "capture = cv.VideoCapture(0) #打开摄像头\n",
    "height = capture.get(cv.CAP_PROP_FRAME_HEIGHT)\n",
    "width = capture.get(cv.CAP_PROP_FRAME_WIDTH)\n",
    "count = capture.get(cv.CAP_PROP_FRAME_COUNT)\n",
    "fps = capture.get(cv.CAP_PROP_FPS)\n",
    "print(height, width, count, fps)\n",
    "out = cv.VideoWriter(\"C:/Users/86188/Desktop/test/other/test_cp.avi\", cv.VideoWriter_fourcc('D', 'I', 'V', 'X'), 15,\n",
    "                     (np.int(width), np.int(height)), True)\n",
    "while True:\n",
    "    ret, frame = capture.read()\n",
    "    if ret is True:\n",
    "        cv.imshow(\"video-input\", frame)\n",
    "        out.write(frame)\n",
    "        c = cv.waitKey(50)\n",
    "        if c == 27: # ESC\n",
    "            break\n",
    "    else:\n",
    "        break\n",
    "\n",
    "capture.release()\n",
    "out.release()\n",
    "\n"
   ]
  },
  {
   "cell_type": "code",
   "execution_count": null,
   "metadata": {},
   "outputs": [],
   "source": [
    "翻转：cv.flip  0对x轴翻转     1 对y轴翻转     -1 对角线翻转"
   ]
  },
  {
   "cell_type": "code",
   "execution_count": 1,
   "metadata": {},
   "outputs": [],
   "source": [
    "import cv2 as cv\n",
    "import numpy as np\n",
    "\n",
    "src = cv.imread(\"C:/Users/86188/Desktop/test/other/shihuang.png\")\n",
    "cv.namedWindow(\"input\", cv.WINDOW_AUTOSIZE)\n",
    "cv.imshow(\"input\", src)\n",
    "\n",
    "# X Flip 倒影\n",
    "dst1 = cv.flip(src, 0);\n",
    "cv.imshow(\"x-flip\", dst1);\n",
    "\n",
    "# Y Flip 镜像\n",
    "dst2 = cv.flip(src, 1);\n",
    "cv.imshow(\"y-flip\", dst2);\n",
    "\n",
    "# XY Flip 对角\n",
    "dst3 = cv.flip(src, -1);\n",
    "cv.imshow(\"xy-flip\", dst3);\n",
    "\n",
    "# custom y-flip\n",
    "h, w, ch = src.shape\n",
    "dst = np.zeros(src.shape, src.dtype)\n",
    "for row in range(h):\n",
    "    for col in range(w):\n",
    "        b, g, r = src[row, col]\n",
    "        dst[row, w - col - 1] = [b, g, r]\n",
    "cv.imshow(\"custom-y-flip\", dst)\n",
    "\n",
    "cv.waitKey(0)\n",
    "cv.destroyAllWindows()"
   ]
  },
  {
   "cell_type": "code",
   "execution_count": null,
   "metadata": {},
   "outputs": [],
   "source": [
    "插值:cv.resize"
   ]
  },
  {
   "cell_type": "code",
   "execution_count": 2,
   "metadata": {},
   "outputs": [
    {
     "name": "stdout",
     "output_type": "stream",
     "text": [
      "403 285\n"
     ]
    }
   ],
   "source": [
    "import cv2 as cv\n",
    "\n",
    "src = cv.imread(\"C:/Users/86188/Desktop/test/other/shihuang.png\")\n",
    "cv.namedWindow(\"input\", cv.WINDOW_AUTOSIZE)\n",
    "cv.imshow(\"input\", src)\n",
    "\n",
    "h, w = src.shape[:2]\n",
    "print(h, w)\n",
    "dst = cv.resize(src, (w*2, h*2), fx=0.75, fy=0.75, interpolation=cv.INTER_NEAREST)\n",
    "cv.imshow(\"INTER_NEAREST\", dst)\n",
    "\n",
    "dst = cv.resize(src, (w*2, h*2), interpolation=cv.INTER_LINEAR)\n",
    "cv.imshow(\"INTER_LINEAR\", dst)\n",
    "\n",
    "dst = cv.resize(src, (w*2, h*2), interpolation=cv.INTER_CUBIC)\n",
    "cv.imshow(\"INTER_CUBIC\", dst)\n",
    "\n",
    "dst = cv.resize(src, (w*2, h*2), interpolation=cv.INTER_LANCZOS4)\n",
    "cv.imshow(\"INTER_LANCZOS4\", dst)\n",
    "\n",
    "# cv.warpAffine()\n",
    "\n",
    "cv.waitKey(0)\n",
    "cv.destroyAllWindows()"
   ]
  },
  {
   "cell_type": "code",
   "execution_count": null,
   "metadata": {},
   "outputs": [],
   "source": [
    "几何图形描绘:cv.rectangle  cv.circle  cv.ellipse"
   ]
  },
  {
   "cell_type": "code",
   "execution_count": 3,
   "metadata": {},
   "outputs": [],
   "source": [
    "import cv2 as cv\n",
    "import numpy as np\n",
    "\n",
    "image = np.zeros((512, 512, 3), dtype=np.uint8)\n",
    "\n",
    "cv.rectangle(image, (100, 100), (300, 300), (255, 0, 0), 2, cv.LINE_8, 0)\n",
    "cv.circle(image, (256, 256), 50, (0, 0, 255), 2, cv.LINE_8, 0)\n",
    "cv.ellipse(image, (256, 256), (150, 50), 360, 0, 360, (0, 255, 0), 2, cv.LINE_8, 0)\n",
    "cv.imshow(\"image\", image)\n",
    "cv.waitKey(0)\n",
    "\n",
    "for i in range(100000):\n",
    "    image[:,:,:]= 0\n",
    "    x1 = np.random.rand() * 512\n",
    "    y1 = np.random.rand() * 512\n",
    "    x2 = np.random.rand() * 512\n",
    "    y2 = np.random.rand() * 512\n",
    "\n",
    "    b = np.random.randint(0, 256)\n",
    "    g = np.random.randint(0, 256)\n",
    "    r = np.random.randint(0, 256)\n",
    "    # cv.line(image, (np.int(x1), np.int(y1)), (np.int(x2), np.int(y2)), (b, g, r), 4, cv.LINE_8, 0)\n",
    "    cv.rectangle(image, (np.int(x1), np.int(y1)), (np.int(x2), np.int(y2)), (b, g, r), 1, cv.LINE_8, 0)\n",
    "    cv.imshow(\"image\", image)\n",
    "    c = cv.waitKey(20)\n",
    "    if c == 27:\n",
    "        break  # ESC不\n",
    "\n",
    "\n",
    "cv.imshow(\"image\", image)\n",
    "cv.waitKey(0)\n",
    "cv.destroyAllWindows()"
   ]
  },
  {
   "cell_type": "code",
   "execution_count": null,
   "metadata": {},
   "outputs": [],
   "source": [
    "图像ROI:np.copy"
   ]
  },
  {
   "cell_type": "code",
   "execution_count": 3,
   "metadata": {},
   "outputs": [
    {
     "name": "stdout",
     "output_type": "stream",
     "text": [
      "403\n",
      "285\n",
      "201\n",
      "142\n"
     ]
    }
   ],
   "source": [
    "import cv2 as cv\n",
    "import numpy as np\n",
    "\n",
    "src = cv.imread(\"C:/Users/86188/Desktop/test/other/shihuang.png\")\n",
    "cv.namedWindow(\"input\", cv.WINDOW_AUTOSIZE)\n",
    "#v.imshow(\"input\", src)\n",
    "h, w = src.shape[:2]\n",
    "print(h)\n",
    "print(w)\n",
    "# 获取ROI\n",
    "cy = h//2\n",
    "cx = w//2\n",
    "print(cy)\n",
    "print(cx)\n",
    "roi = src[cy-100:cy+100,cx-100:cx+100,:]\n",
    "cv.imshow(\"roi\", roi)\n",
    "\n",
    "# copy ROI\n",
    "image = np.copy(roi)\n",
    "\n",
    "# modify ROI\n",
    "roi[:, :, 0] = 0\n",
    "#cv.imshow(\"result\", src)\n",
    "\n",
    "# modify copy roi\n",
    "image[:, :, 2] = 0\n",
    "#cv.imshow(\"result\", src)\n",
    "#cv.imshow(\"copy roi\", image)\n",
    "\n",
    "# example with ROI - generate mask\n",
    "src2 = cv.imread(\"C:/Users/86188/Desktop/test/other/shihuang.png\")\n",
    "cv.imshow(\"src2\", src2)\n",
    "hsv = cv.cvtColor(src2, cv.COLOR_BGR2HSV)\n",
    "mask = cv.inRange(hsv, (35, 43, 46), (99, 255, 255))\n",
    "cv.imshow('mask',mask)\n",
    "\n",
    "# extract person ROI\n",
    "mask = cv.bitwise_not(mask)\n",
    "cv.imshow('mask1',mask)\n",
    "person = cv.bitwise_and(src2, src2, mask=mask)\n",
    "cv.imshow('person',person)\n",
    "\n",
    "# generate background\n",
    "result = np.zeros(src2.shape, src2.dtype)\n",
    "result[:,:,0] = 255\n",
    "cv.imshow('backgroud',result)\n",
    "\n",
    "# combine background + person\n",
    "mask = cv.bitwise_not(mask)\n",
    "dst = cv.bitwise_or(person, result, mask=mask)\n",
    "dst = cv.add(dst, person)\n",
    "\n",
    "cv.imshow(\"dst\", dst)\n",
    "\n",
    "cv.waitKey(0)\n",
    "cv.destroyAllWindows()"
   ]
  },
  {
   "cell_type": "code",
   "execution_count": null,
   "metadata": {},
   "outputs": [],
   "source": [
    "使用matplotlib查看图像上的像素点"
   ]
  },
  {
   "cell_type": "code",
   "execution_count": 2,
   "metadata": {
    "scrolled": true
   },
   "outputs": [
    {
     "data": {
      "image/png": "[encoded data removed]",
      "text/plain": [
       "<Figure size 432x288 with 1 Axes>"
      ]
     },
     "metadata": {},
     "output_type": "display_data"
    }
   ],
   "source": [
    "import numpy as np\n",
    "import cv2\n",
    "from matplotlib import pyplot as plt\n",
    "img =cv2.imread('C:/Users/86188/Desktop/hsv.jpg')\n",
    "plt.imshow(img,cmap=None,interpolation = 'bicubic')\n",
    "plt.xticks([]),plt.yticks([])  #to hide tick values on X and Y axis\n",
    "plt.show()"
   ]
  },
  {
   "cell_type": "code",
   "execution_count": null,
   "metadata": {},
   "outputs": [],
   "source": [
    "import numpy as np\n",
    "import cv2 as cv\n",
    "\n",
    "src = cv.imread(\"C:/Users/86188/Desktop/test/template1.bmp\")\n",
    "cv.namedWindow(\"roi\", cv.WINDOW_NORMAL)\n",
    "roi = src[437:625,942:1210]\n",
    "cv.imshow(\"roi\", roi)\n",
    "cv.imwrite(\"C:/Users/86188/Desktop/test/t1.bmp\",roi)\n",
    "\n",
    "cv.waitKey(0)\n",
    "cv.destroyAllWindows()"
   ]
  },
  {
   "cell_type": "code",
   "execution_count": null,
   "metadata": {},
   "outputs": [],
   "source": []
  }
 ],
 "metadata": {
  "kernelspec": {
   "display_name": "Python [conda env:conda-tf2.0] *",
   "language": "python",
   "name": "conda-env-conda-tf2.0-py"
  },
  "language_info": {
   "codemirror_mode": {
    "name": "ipython",
    "version": 3
   },
   "file_extension": ".py",
   "mimetype": "text/x-python",
   "name": "python",
   "nbconvert_exporter": "python",
   "pygments_lexer": "ipython3",
   "version": "3.6.9"
  }
 },
 "nbformat": 4,
 "nbformat_minor": 2
}

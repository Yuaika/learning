{
 "cells": [
  {
   "cell_type": "markdown",
   "metadata": {},
   "source": [
    "二值图像：OpenCV中二值图像为单通道的、字节类型的Mat对象、对于任意的输入图像首先需要把图像转换为灰度、然后通过二值化方法转换为二值图像。\n",
    "本文首先介绍二值化的方法，包括阈值分割函数的使用、otsu法、triangle法、自适应局部阈值法以及二值化方法和去噪方法的结合。\n",
    "然后介绍连通域的获取和分析；轮廓的获取和分析。\n",
    "最后介绍一下霍夫变换的应用。"
   ]
  },
  {
   "cell_type": "markdown",
   "metadata": {},
   "source": [
    "取图像均值后二值化"
   ]
  },
  {
   "cell_type": "code",
   "execution_count": 2,
   "metadata": {},
   "outputs": [
    {
     "name": "stdout",
     "output_type": "stream",
     "text": [
      "(194.1143267598276, 0.0, 0.0, 0.0)\n",
      "current threshold value :  194.1143267598276\n"
     ]
    }
   ],
   "source": [
    "import cv2 as cv\n",
    "import numpy as np\n",
    "\n",
    "src = cv.imread(\"C:/Users/86188/Desktop/test/other/shihuang.png\")\n",
    "cv.namedWindow(\"input\", cv.WINDOW_AUTOSIZE)\n",
    "cv.imshow(\"input\", src)\n",
    "\n",
    "T = 127\n",
    "\n",
    "# 转换为灰度图像\n",
    "gray = cv.cvtColor(src, cv.COLOR_BGR2GRAY)\n",
    "h, w = gray.shape\n",
    "print(cv.mean(gray))\n",
    "T = cv.mean(gray)[0]\n",
    "print(\"current threshold value : \", T)\n",
    "\n",
    "# 二值图像\n",
    "binary = np.zeros((h, w), dtype=np.uint8)\n",
    "for row in range(h):\n",
    "    for col in range(w):\n",
    "        pv = gray[row, col]\n",
    "        if pv > T:\n",
    "            binary[row, col] = 255\n",
    "        else:\n",
    "            binary[row, col] = 0\n",
    "cv.imshow(\"binary\", binary)\n",
    "\n",
    "cv.waitKey(0)\n",
    "cv.destroyAllWindows()"
   ]
  },
  {
   "cell_type": "markdown",
   "metadata": {},
   "source": [
    "阈值分割函数  double cv::threshold(InputArray src, OutputArray dst,double thresh,double maxval,int type)"
   ]
  },
  {
   "cell_type": "code",
   "execution_count": 3,
   "metadata": {},
   "outputs": [],
   "source": [
    "import cv2 as cv\n",
    "import numpy as np\n",
    "#\n",
    "# THRESH_BINARY = 0\n",
    "# THRESH_BINARY_INV = 1\n",
    "# THRESH_TRUNC = 2\n",
    "# THRESH_TOZERO = 3\n",
    "# THRESH_TOZERO_INV = 4\n",
    "#\n",
    "src = cv.imread(\"C:/Users/86188/Desktop/test/other/shihuang.png\")\n",
    "cv.namedWindow(\"input\", cv.WINDOW_AUTOSIZE)\n",
    "cv.imshow(\"input\", src)\n",
    "\n",
    "T = 127\n",
    "\n",
    "# 转换为灰度图像\n",
    "gray = cv.cvtColor(src, cv.COLOR_BGR2GRAY)\n",
    "for i in range(5):\n",
    "    ret, binary = cv.threshold(gray, T, 255, i)\n",
    "    cv.imshow(\"binary_\" + str(i), binary)\n",
    "\n",
    "cv.waitKey(0)\n",
    "cv.destroyAllWindows()"
   ]
  },
  {
   "cell_type": "markdown",
   "metadata": {},
   "source": [
    "上面两个例子阈值分别是取平均和手动设置，下面介绍寻找阈值的方法"
   ]
  },
  {
   "cell_type": "markdown",
   "metadata": {},
   "source": [
    "OTSU（大津法）：通过计算类间最大方差来确定分割阈值的阈值选择算法，使用于双峰图像"
   ]
  },
  {
   "cell_type": "code",
   "execution_count": 13,
   "metadata": {},
   "outputs": [
    {
     "name": "stdout",
     "output_type": "stream",
     "text": [
      "ret : 147.0\n"
     ]
    }
   ],
   "source": [
    "import cv2 as cv\n",
    "import numpy as np\n",
    "#\n",
    "# THRESH_BINARY = 0\n",
    "# THRESH_BINARY_INV = 1\n",
    "# THRESH_TRUNC = 2\n",
    "# THRESH_TOZERO = 3\n",
    "# THRESH_TOZERO_INV = 4\n",
    "#\n",
    "src = cv.imread(\"C:/Users/86188/Desktop/test/other/shihuang.png\")\n",
    "cv.namedWindow(\"input\", cv.WINDOW_AUTOSIZE)\n",
    "cv.imshow(\"input\", src)\n",
    "h, w = src.shape[:2]\n",
    "\n",
    "# 自动阈值分割 OTSU\n",
    "gray = cv.cvtColor(src, cv.COLOR_BGR2GRAY)\n",
    "ret, binary = cv.threshold(gray, 0, 255, cv.THRESH_BINARY | cv.THRESH_OTSU)\n",
    "print(\"ret :\", ret)\n",
    "cv.imshow(\"binary\", binary)\n",
    "\n",
    "result = np.zeros([h, w*2, 3], dtype=src.dtype)\n",
    "result[0:h,0:w,:] = src\n",
    "result[0:h,w:2*w,:] = cv.cvtColor(binary, cv.COLOR_GRAY2BGR)\n",
    "cv.putText(result, \"input\", (10, 30), cv.FONT_ITALIC, 1.0, (0, 0, 255), 2)\n",
    "cv.putText(result, \"binary, threshold = \" + str(ret), (w+10, 30), cv.FONT_ITALIC, 1.0, (0, 0, 255), 2)\n",
    "cv.imshow(\"result\", result)\n",
    "\n",
    "cv.waitKey(0)\n",
    "cv.destroyAllWindows()"
   ]
  },
  {
   "cell_type": "code",
   "execution_count": null,
   "metadata": {},
   "outputs": [],
   "source": [
    "Triangle（三角）阈值分割：适用于单峰情况"
   ]
  },
  {
   "cell_type": "code",
   "execution_count": 12,
   "metadata": {},
   "outputs": [
    {
     "name": "stdout",
     "output_type": "stream",
     "text": [
      "ret : 164.0\n"
     ]
    }
   ],
   "source": [
    "import cv2 as cv\n",
    "import numpy as np\n",
    "import tensorflow as tf\n",
    "\n",
    "#\n",
    "# THRESH_BINARY = 0\n",
    "# THRESH_BINARY_INV = 1\n",
    "# THRESH_TRUNC = 2\n",
    "# THRESH_TOZERO = 3\n",
    "# THRESH_TOZERO_INV = 4\n",
    "#\n",
    "src = cv.imread(\"C:/Users/86188/Desktop/test/other/shihuang.png\")\n",
    "cv.namedWindow(\"input\", cv.WINDOW_AUTOSIZE)\n",
    "cv.imshow(\"input\", src)\n",
    "h, w = src.shape[:2]\n",
    "\n",
    "\n",
    "# 自动阈值分割 TRIANGLE\n",
    "gray = cv.cvtColor(src, cv.COLOR_BGR2GRAY)\n",
    "ret, binary = cv.threshold(gray, 0, 255, cv.THRESH_BINARY | cv.THRESH_TRIANGLE)\n",
    "print(\"ret :\", ret)\n",
    "cv.imshow(\"binary\", binary)\n",
    "\n",
    "result = np.zeros([h, w*2, 3], dtype=src.dtype)\n",
    "result[0:h,0:w,:] = src\n",
    "result[0:h,w:2*w,:] = cv.cvtColor(binary, cv.COLOR_GRAY2BGR)\n",
    "cv.putText(result, \"input\", (10, 30), cv.FONT_ITALIC, 0.5, (0, 0, 255), 1)\n",
    "cv.putText(result, \"binary,threshold = \" + str(ret), (w+10, 30), cv.FONT_ITALIC, 0.5, (0, 0, 255), 1)\n",
    "cv.imshow(\"result\", result)\n",
    "\n",
    "cv.waitKey(0)\n",
    "cv.destroyAllWindows()"
   ]
  },
  {
   "cell_type": "code",
   "execution_count": null,
   "metadata": {},
   "outputs": [],
   "source": [
    "Adaptivethreshold自适应阈值：在同一幅图像的不同部分具有不同亮度时使用，局部阈值（每个点的阈值受到邻近的block影响）"
   ]
  },
  {
   "cell_type": "code",
   "execution_count": 14,
   "metadata": {},
   "outputs": [],
   "source": [
    "import cv2 as cv\n",
    "import numpy as np\n",
    "\n",
    "#\n",
    "# THRESH_BINARY = 0\n",
    "# THRESH_BINARY_INV = 1\n",
    "# THRESH_TRUNC = 2\n",
    "# THRESH_TOZERO = 3\n",
    "# THRESH_TOZERO_INV = 4\n",
    "#\n",
    "src = cv.imread(\"C:/Users/86188/Desktop/test/other/text1.png\")\n",
    "cv.namedWindow(\"input\", cv.WINDOW_AUTOSIZE)\n",
    "cv.imshow(\"input\", src)\n",
    "h, w = src.shape[:2]\n",
    "\n",
    "\n",
    "# 自动阈值分割 TRIANGLE\n",
    "gray = cv.cvtColor(src, cv.COLOR_BGR2GRAY)\n",
    "binary = cv.adaptiveThreshold(gray, 255, cv.ADAPTIVE_THRESH_MEAN_C, cv.THRESH_BINARY, 25, 10)\n",
    "cv.imshow(\"binary\", binary)\n",
    "\n",
    "result = np.zeros([h, w*2, 3], dtype=src.dtype)\n",
    "result[0:h,0:w,:] = src\n",
    "result[0:h,w:2*w,:] = cv.cvtColor(binary, cv.COLOR_GRAY2BGR)\n",
    "cv.putText(result, \"input\", (10, 30), cv.FONT_ITALIC, 1.0, (0, 0, 255), 2)\n",
    "cv.putText(result, \"adaptive threshold\", (w+10, 30), cv.FONT_ITALIC, 1.0, (0, 0, 255), 2)\n",
    "cv.imshow(\"result\", result)\n",
    "\n",
    "cv.waitKey(0)\n",
    "cv.destroyAllWindows()"
   ]
  },
  {
   "cell_type": "markdown",
   "metadata": {},
   "source": [
    "图像去噪后二值化"
   ]
  },
  {
   "cell_type": "code",
   "execution_count": 1,
   "metadata": {},
   "outputs": [],
   "source": [
    "import cv2 as cv\n",
    "import numpy as np\n",
    "\n",
    "\n",
    "def method_1(image):\n",
    "    gray = cv.cvtColor(image, cv.COLOR_BGR2GRAY)\n",
    "    t, binary = cv.threshold(gray, 0, 255, cv.THRESH_BINARY | cv.THRESH_OTSU)\n",
    "    return binary\n",
    "\n",
    "\n",
    "def method_2(image):\n",
    "    blurred = cv.GaussianBlur(image, (3, 3), 0)\n",
    "    gray = cv.cvtColor(blurred, cv.COLOR_BGR2GRAY)\n",
    "    t, binary = cv.threshold(gray, 0, 255, cv.THRESH_BINARY | cv.THRESH_OTSU)\n",
    "    return binary\n",
    "\n",
    "\n",
    "def method_3(image):\n",
    "    blurred = cv.pyrMeanShiftFiltering(image, 10, 100)\n",
    "    gray = cv.cvtColor(blurred, cv.COLOR_BGR2GRAY)\n",
    "    t, binary = cv.threshold(gray, 0, 255, cv.THRESH_BINARY | cv.THRESH_OTSU)\n",
    "    return binary\n",
    "\n",
    "\n",
    "src = cv.imread(\"C:/Users/86188/Desktop/test/other/shihuang.png\")\n",
    "h, w = src.shape[:2]\n",
    "ret = method_3(src)\n",
    "\n",
    "result = np.zeros([h, w*2, 3], dtype=src.dtype)\n",
    "result[0:h,0:w,:] = src\n",
    "result[0:h,w:2*w,:] = cv.cvtColor(ret, cv.COLOR_GRAY2BGR)\n",
    "cv.putText(result, \"input\", (10, 30), cv.FONT_ITALIC, 1.0, (0, 0, 255), 2)\n",
    "cv.putText(result, \"binary\", (w+10, 30), cv.FONT_ITALIC, 1.0, (0, 0, 255), 2)\n",
    "cv.imshow(\"result\", result)\n",
    "\n",
    "cv.waitKey(0)\n",
    "cv.destroyAllWindows()"
   ]
  },
  {
   "cell_type": "markdown",
   "metadata": {},
   "source": [
    "二值图像的各类操作，接下来首先介绍二值图像下的连通域操作"
   ]
  },
  {
   "cell_type": "markdown",
   "metadata": {},
   "source": [
    "联通组件标记算法"
   ]
  },
  {
   "cell_type": "code",
   "execution_count": 4,
   "metadata": {},
   "outputs": [
    {
     "name": "stdout",
     "output_type": "stream",
     "text": [
      "total rice :  25\n"
     ]
    }
   ],
   "source": [
    "import cv2 as cv\n",
    "import numpy as np\n",
    "\n",
    "\n",
    "def connected_components_demo(src):\n",
    "    src = cv.GaussianBlur(src, (3, 3), 0)\n",
    "    gray = cv.cvtColor(src, cv.COLOR_BGR2GRAY)\n",
    "    ret, binary = cv.threshold(gray, 0, 255, cv.THRESH_BINARY | cv.THRESH_OTSU)\n",
    "    cv.imshow(\"binary\", binary)\n",
    "\n",
    "    output = cv.connectedComponents(binary, connectivity=8, ltype=cv.CV_32S)\n",
    "    num_labels = output[0]\n",
    "    labels = output[1]\n",
    "    colors = []\n",
    "    for i in range(num_labels):\n",
    "        b = np.random.randint(0, 256)\n",
    "        g = np.random.randint(0, 256)\n",
    "        r = np.random.randint(0, 256)\n",
    "        colors.append((b, g, r))\n",
    "\n",
    "    colors[0] = (0, 0, 0)\n",
    "    h, w = gray.shape\n",
    "    image = np.zeros((h, w, 3), dtype=np.uint8)\n",
    "    for row in range(h):\n",
    "        for col in range(w):\n",
    "            image[row, col] = colors[labels[row, col]]\n",
    "\n",
    "    cv.imshow(\"colored labels\", image)\n",
    "    print(\"total rice : \", num_labels - 1)\n",
    "\n",
    "\n",
    "src = cv.imread(\"C:/Users/86188/Desktop/test/other/rice.png\")\n",
    "connected_components_demo(src)\n",
    "cv.waitKey(0)\n",
    "cv.destroyAllWindows()"
   ]
  },
  {
   "cell_type": "markdown",
   "metadata": {},
   "source": [
    "每个区域的统计特征，外接矩形的左上角坐标和长宽，连通域面积，连通域中心"
   ]
  },
  {
   "cell_type": "code",
   "execution_count": 6,
   "metadata": {},
   "outputs": [
    {
     "name": "stdout",
     "output_type": "stream",
     "text": [
      "label index 1, area of the label : 2022\n",
      "label index 2, area of the label : 1955\n",
      "label index 3, area of the label : 1900\n",
      "label index 4, area of the label : 1844\n",
      "label index 5, area of the label : 1861\n",
      "label index 6, area of the label : 1885\n",
      "label index 7, area of the label : 1831\n",
      "label index 8, area of the label : 1916\n",
      "label index 9, area of the label : 2017\n",
      "label index 10, area of the label : 2041\n",
      "label index 11, area of the label : 1970\n",
      "label index 12, area of the label : 1966\n",
      "label index 13, area of the label : 1983\n",
      "label index 14, area of the label : 1841\n",
      "label index 15, area of the label : 2068\n",
      "label index 16, area of the label : 1903\n",
      "label index 17, area of the label : 1889\n",
      "label index 18, area of the label : 1509\n",
      "label index 19, area of the label : 1770\n",
      "label index 20, area of the label : 1566\n",
      "label index 21, area of the label : 2018\n",
      "label index 22, area of the label : 1962\n",
      "label index 23, area of the label : 2011\n",
      "label index 24, area of the label : 1812\n",
      "label index 25, area of the label : 2064\n",
      "total rice :  25\n"
     ]
    }
   ],
   "source": [
    "import cv2 as cv\n",
    "import numpy as np\n",
    "\n",
    "\n",
    "def connected_components_stats_demo(src):\n",
    "    src = cv.GaussianBlur(src, (3, 3), 0)\n",
    "    gray = cv.cvtColor(src, cv.COLOR_BGR2GRAY)\n",
    "    ret, binary = cv.threshold(gray, 0, 255, cv.THRESH_BINARY | cv.THRESH_OTSU)\n",
    "    cv.imshow(\"binary\", binary)\n",
    "\n",
    "    num_labels, labels, stats, centers = cv.connectedComponentsWithStats(binary, connectivity=8, ltype=cv.CV_32S)\n",
    "    colors = []\n",
    "    for i in range(num_labels):\n",
    "        b = np.random.randint(0, 256)\n",
    "        g = np.random.randint(0, 256)\n",
    "        r = np.random.randint(0, 256)\n",
    "        colors.append((b, g, r))\n",
    "\n",
    "    colors[0] = (0, 0, 0)\n",
    "    image = np.copy(src)\n",
    "    for t in range(1, num_labels, 1):\n",
    "        x, y, w, h, area = stats[t]\n",
    "        cx, cy = centers[t]\n",
    "        cv.circle(image, (np.int32(cx), np.int32(cy)), 2, (0, 255, 0), 2, 8, 0)\n",
    "        cv.rectangle(image, (x, y), (x+w, y+h), colors[t], 1, 8, 0)\n",
    "        cv.putText(image, \"num:\" + str(t), (x, y), cv.FONT_HERSHEY_SIMPLEX, .5, (0, 0, 255), 1);\n",
    "        print(\"label index %d, area of the label : %d\"%(t, area))\n",
    "\n",
    "    cv.imshow(\"colored labels\", image)\n",
    "    print(\"total rice : \", num_labels - 1)\n",
    "\n",
    "\n",
    "input = cv.imread(\"C:/Users/86188/Desktop/test/other/rice.png\")\n",
    "connected_components_stats_demo(input)\n",
    "cv.waitKey(0)\n",
    "cv.destroyAllWindows()"
   ]
  },
  {
   "cell_type": "markdown",
   "metadata": {},
   "source": [
    "轮廓外接矩形\n",
    "cv.findContours\n",
    "cv.drawContours"
   ]
  },
  {
   "cell_type": "code",
   "execution_count": 16,
   "metadata": {},
   "outputs": [
    {
     "name": "stdout",
     "output_type": "stream",
     "text": [
      "1100.5 762.9188274145126\n",
      "997.0 736.1564152240753\n"
     ]
    }
   ],
   "source": [
    "import cv2 as cv\n",
    "import numpy as np\n",
    "\n",
    "\n",
    "def canny_demo(image):\n",
    "    t = 80\n",
    "    canny_output = cv.Canny(image, t, t * 2)\n",
    "    cv.imshow(\"canny_output\", canny_output)\n",
    "    return canny_output\n",
    "\n",
    "\n",
    "src = cv.imread(\"C:/Users/86188/Desktop/test/other/stuff.jpg\")\n",
    "cv.namedWindow(\"input\", cv.WINDOW_AUTOSIZE)\n",
    "cv.imshow(\"input\", src)\n",
    "binary = canny_demo(src)\n",
    "cv.imshow(\"canny1\",binary)\n",
    "k = np.ones((3, 3), dtype=np.uint8)\n",
    "binary = cv.morphologyEx(binary, cv.MORPH_DILATE, k)\n",
    "cv.imshow(\"canny2\",binary)\n",
    "# 轮廓发现\n",
    "out, contours, hierarchy = cv.findContours(binary, cv.RETR_EXTERNAL, cv.CHAIN_APPROX_SIMPLE)\n",
    "for c in range(len(contours)):\n",
    "    #轮廓面积和弧长\n",
    "    area = cv.contourArea(contours[c])\n",
    "    arclen = cv.arcLength(contours[c], True)\n",
    "    if area>1200:\n",
    "        continue\n",
    "    print(area,arclen)\n",
    "     #直外接矩形的参数\n",
    "    x, y, w, h = cv.boundingRect(contours[c]);\n",
    "    #绘制第c个轮廓\n",
    "    cv.drawContours(src, contours, c, (0, 0, 255), 2, 8)\n",
    "    #绘制直外接矩形\n",
    "    cv.rectangle(src, (x, y), (x+w, y+h), (0, 0, 255), 1, 8, 0);\n",
    "    #最小外接矩形，rect包括最小矩形的中心，长宽和旋转角度\n",
    "    rect = cv.minAreaRect(contours[c])\n",
    "    cx, cy = rect[0]\n",
    "    #使用boxPoints函数计算出最小外接矩形的四个点坐标\n",
    "    box = cv.boxPoints(rect)\n",
    "    #将坐标化为整数\n",
    "    box = np.int0(box)\n",
    "    cv.drawContours(src,[box],0,(0,0,255),2)\n",
    "    #绘制中心点\n",
    "    cv.circle(src, (np.int32(cx), np.int32(cy)), 2, (255, 0, 0), 2, 8, 0)\n",
    "\n",
    "\n",
    "# 显示\n",
    "cv.imshow(\"contours_analysis\", src)\n",
    "cv.waitKey(0)\n",
    "cv.destroyAllWindows()"
   ]
  },
  {
   "cell_type": "markdown",
   "metadata": {},
   "source": [
    "轮廓面积，轮廓周长，轮廓近似，轮廓几何矩\n",
    "area = cv.contourArea(cnt)\n",
    "\n",
    "轮廓周长\n",
    "arclen = cv.arcLength(cnt, True)\n",
    "\n",
    "轮廓近似\n",
    "approx = cv.approxPolyDP(cnt,epsilon,True)\n",
    "\n",
    "轮廓几何矩\n",
    "mm = cv.moments(cnt)\n",
    "\n",
    "最小外接圆\n",
    "(x,y),radius = cv.minEnclosingCircle(cnt)\n",
    "center = (int(x),int(y))\n",
    "radius = int(radius)\n",
    "img = cv.circle(img,center,radius,(0,255,0),2)\n",
    "\n",
    "椭圆拟合\n",
    "ellipse = cv.fitEllipse(cnt)\n",
    "\n",
    "直线拟合\n",
    "[vx,vy,x,y]=cv.fitLine(cnt,cv.DIST_L2,0,0.01,0.01)\n",
    "\n",
    "凸包检测\n",
    "cv.isContourConvex(cnt)\n",
    "cv.convexHull(cnt)\n",
    "\n",
    "点到轮廓的距离测试（点多边形测试）\n",
    "dist = cv.pointPolygonTest(cnt, (col, row), True)\n",
    "\n",
    "最大内接圆\n",
    "opencv不直接提供最大内接园的API，可以通过点多边形测试获得距离轮廓最远的点，这个点与轮廓的距离就是最大内接圆的半径\n",
    "\n",
    "使用Hu矩实现轮廓匹配：cv.HuMoments，cv.matchShapes\n",
    "\n",
    "点到轮廓的距离测试（点多边形测试）"
   ]
  },
  {
   "cell_type": "code",
   "execution_count": 20,
   "metadata": {},
   "outputs": [],
   "source": [
    "import cv2 as cv\n",
    "import numpy as np\n",
    "\n",
    "src = cv.imread(\"C:/Users/86188/Desktop/test/other/abc.png\")\n",
    "cv.namedWindow(\"input\", cv.WINDOW_AUTOSIZE)\n",
    "cv.imshow(\"input\", src)\n",
    "gray = cv.cvtColor(src, cv.COLOR_BGR2GRAY)\n",
    "ret, binary = cv.threshold(gray, 0, 255, cv.THRESH_BINARY | cv.THRESH_OTSU)\n",
    "cv.imshow(\"binary\", binary)\n",
    "\n",
    "# 轮廓发现\n",
    "image = np.zeros(src.shape, dtype=np.float32)\n",
    "out, contours, hierarchy = cv.findContours(binary, cv.RETR_EXTERNAL, cv.CHAIN_APPROX_SIMPLE)\n",
    "h, w = src.shape[:2]\n",
    "for row in range(h):\n",
    "    for col in range(w):\n",
    "        dist = cv.pointPolygonTest(contours[0], (col, row), True)\n",
    "        if dist == 0:\n",
    "            image[row, col] = (255, 255, 255)\n",
    "        if dist > 0:\n",
    "            image[row, col] = (255-dist, 0, 0)\n",
    "        if dist < 0:\n",
    "            image[row, col] = (0, 0, 255+dist)\n",
    "\n",
    "dst = cv.convertScaleAbs(image)\n",
    "dst = np.uint8(dst)\n",
    "\n",
    "# 显示\n",
    "cv.imshow(\"contours_analysis\", dst)\n",
    "cv.waitKey(0)\n",
    "cv.destroyAllWindows()"
   ]
  },
  {
   "cell_type": "markdown",
   "metadata": {},
   "source": [
    "最大内接圆"
   ]
  },
  {
   "cell_type": "code",
   "execution_count": 23,
   "metadata": {},
   "outputs": [],
   "source": [
    "from __future__ import print_function\n",
    "from __future__ import division\n",
    "import cv2 as cv\n",
    "import numpy as np\n",
    "# Create an image\n",
    "r = 100\n",
    "src = np.zeros((4*r, 4*r), dtype=np.uint8)\n",
    "# Create a sequence of points to make a contour\n",
    "vert = [None]*6\n",
    "vert[0] = (3*r//2, int(1.34*r))\n",
    "vert[1] = (1*r, 2*r)\n",
    "vert[2] = (3*r//2, int(2.866*r))\n",
    "vert[3] = (5*r//2, int(2.866*r))\n",
    "vert[4] = (3*r, 2*r)\n",
    "vert[5] = (5*r//2, int(1.34*r))\n",
    "# Draw it in src\n",
    "for i in range(6):\n",
    "    cv.line(src, vert[i],  vert[(i+1)%6], ( 255 ), 3)\n",
    "# Get the contours\n",
    "_, contours, _ = cv.findContours(src, cv.RETR_TREE, cv.CHAIN_APPROX_SIMPLE)\n",
    "\n",
    "# Calculate the distances to the contour\n",
    "raw_dist = np.empty(src.shape, dtype=np.float32)\n",
    "for i in range(src.shape[0]):\n",
    "    for j in range(src.shape[1]):\n",
    "        raw_dist[i,j] = cv.pointPolygonTest(contours[0], (j,i), True)\n",
    "\n",
    "# 获取最大值即内接圆半径，中心点坐标\n",
    "minVal, maxVal, _, maxDistPt = cv.minMaxLoc(raw_dist)\n",
    "minVal = abs(minVal)\n",
    "maxVal = abs(maxVal)\n",
    "\n",
    "# Depicting the  distances graphically\n",
    "drawing = np.zeros((src.shape[0], src.shape[1], 3), dtype=np.uint8)\n",
    "for i in range(src.shape[0]):\n",
    "    for j in range(src.shape[1]):\n",
    "        if raw_dist[i,j] < 0:\n",
    "            drawing[i,j,0] = 255 - abs(raw_dist[i,j]) * 255 / minVal\n",
    "        elif raw_dist[i,j] > 0:\n",
    "            drawing[i,j,2] = 255 - raw_dist[i,j] * 255 / maxVal\n",
    "        else:\n",
    "            drawing[i,j,0] = 255\n",
    "            drawing[i,j,1] = 255\n",
    "            drawing[i,j,2] = 255\n",
    "\n",
    "# max inner circle\n",
    "cv.circle(drawing,maxDistPt, np.int(maxVal),(255,255,255), 1, cv.LINE_8, 0)\n",
    "cv.imshow('Source', src)\n",
    "cv.imshow('Distance and inscribed circle', drawing)\n",
    "\n",
    "cv.waitKey(0)\n",
    "cv.destroyAllWindows()"
   ]
  },
  {
   "cell_type": "markdown",
   "metadata": {},
   "source": [
    "中心距：平移不变性  归一化中心矩：尺度不变性  Hu矩：旋转不变性\n",
    "使用Hu矩实现轮廓匹配：cv.HuMoments，cv.matchShapes"
   ]
  },
  {
   "cell_type": "code",
   "execution_count": null,
   "metadata": {},
   "outputs": [],
   "source": [
    "import cv2 as cv\n",
    "import numpy as np\n",
    "\n",
    "\n",
    "def contours_info(image):\n",
    "    gray = cv.cvtColor(image, cv.COLOR_BGR2GRAY)\n",
    "    ret, binary = cv.threshold(gray, 0, 255, cv.THRESH_BINARY | cv.THRESH_OTSU)\n",
    "    out, contours, hierarchy = cv.findContours(binary, cv.RETR_EXTERNAL, cv.CHAIN_APPROX_SIMPLE)\n",
    "    return contours\n",
    "\n",
    "\n",
    "src = cv.imread(\"C:/Users/86188/Desktop/test/other/abc.png\")\n",
    "cv.namedWindow(\"input1\", cv.WINDOW_AUTOSIZE)\n",
    "cv.imshow(\"input1\", src)\n",
    "src2 = cv.imread(\"C:/Users/86188/Desktop/test/other/a5.png\")\n",
    "cv.imshow(\"input2\", src2)\n",
    "\n",
    "# 轮廓发现\n",
    "contours1 = contours_info(src)\n",
    "contours2 = contours_info(src2)\n",
    "\n",
    "# 几何矩计算与hu矩计算\n",
    "mm2 = cv.moments(contours2[0])\n",
    "hum2 = cv.HuMoments(mm2)\n",
    "\n",
    "# 轮廓匹配\n",
    "for c in range(len(contours1)):\n",
    "    mm = cv.moments(contours1[c])\n",
    "    hum = cv.HuMoments(mm)\n",
    "    dist = cv.matchShapes(hum, hum2, cv.CONTOURS_MATCH_I1, 0)\n",
    "    if dist < 1:\n",
    "        cv.drawContours(src, contours1, c, (0, 0, 255), 2, 8)\n",
    "    print(\"dist %f\"%(dist))\n",
    "\n",
    "# 显示\n",
    "cv.imshow(\"contours_analysis\", src)\n",
    "cv.waitKey(0)\n",
    "cv.destroyAllWindows()"
   ]
  },
  {
   "cell_type": "markdown",
   "metadata": {},
   "source": [
    "最后介绍一下霍夫变换。"
   ]
  },
  {
   "cell_type": "code",
   "execution_count": 10,
   "metadata": {
    "scrolled": true
   },
   "outputs": [],
   "source": [
    "import cv2 as cv\n",
    "import numpy as np\n",
    "\n",
    "\n",
    "def canny_demo(image):\n",
    "    t = 80\n",
    "    canny_output = cv.Canny(image, t, t * 2)\n",
    "    return canny_output\n",
    "\n",
    "\n",
    "src = cv.imread(\"C:/Users/86188/Desktop/test/other/sudoku.png\")\n",
    "cv.namedWindow(\"input\", cv.WINDOW_AUTOSIZE)\n",
    "cv.imshow(\"input\", src)\n",
    "\n",
    "binary = canny_demo(src)\n",
    "cv.imshow(\"binary\", binary)\n",
    "\n",
    "lines = cv.HoughLines(binary, 1, np.pi / 180, 150, None, 0, 0)\n",
    "if lines is not None:\n",
    "    for i in range(0, len(lines)):\n",
    "        rho = lines[i][0][0]\n",
    "        theta = lines[i][0][1]\n",
    "        a = np.cos(theta)\n",
    "        b = np.sin(theta)\n",
    "        x0 = a * rho\n",
    "        y0 = b * rho\n",
    "        pt1 = (int(x0 + 1000 * (-b)), int(y0 + 1000 * (a)))\n",
    "        pt2 = (int(x0 - 1000 * (-b)), int(y0 - 1000 * (a)))\n",
    "        cv.line(src, pt1, pt2, (0, 0, 255), 3, cv.LINE_AA)\n",
    "\n",
    "cv.imshow(\"hough line demo\", src)\n",
    "cv.waitKey(0)\n",
    "cv.destroyAllWindows()"
   ]
  },
  {
   "cell_type": "markdown",
   "metadata": {},
   "source": [
    "cv.HoughLinesP直接返回霍夫变换检测到的点"
   ]
  },
  {
   "cell_type": "code",
   "execution_count": 12,
   "metadata": {},
   "outputs": [
    {
     "name": "stdout",
     "output_type": "stream",
     "text": [
      "[217.  105.   41.6]\n",
      "[305. 121.  30.]\n",
      "[257.  235.   39.4]\n",
      "[327.  189.   39.2]\n",
      "[193.  181.   41.6]\n",
      "[323. 257.  30.]\n",
      "[141. 115.  37.]\n",
      "[187.  253.   30.4]\n",
      "[261.  161.   30.6]\n",
      "[191.  149.   54.8]\n",
      "[207.  163.   48.2]\n",
      "[233.  213.   61.4]\n",
      "[209.  113.   41.6]\n",
      "[333. 181.  50.]\n",
      "[243.  231.   52.6]\n",
      "[263.  227.   48.2]\n",
      "[251. 165.  35.]\n",
      "[149. 109.  46.]\n",
      "[217. 159.  35.]\n",
      "[321.  179.   50.4]\n",
      "[209.   99.   32.8]\n",
      "[227.  101.   30.6]\n",
      "[229. 177.  35.]\n"
     ]
    }
   ],
   "source": [
    "import cv2 as cv\n",
    "import numpy as np\n",
    "\n",
    "\n",
    "src = cv.imread(\"C:/Users/86188/Desktop/test/other/coins.jpg\")\n",
    "cv.namedWindow(\"input\", cv.WINDOW_AUTOSIZE)\n",
    "cv.imshow(\"input\", src)\n",
    "gray = cv.cvtColor(src, cv.COLOR_BGR2GRAY)\n",
    "gray = cv.GaussianBlur(gray, (9, 9), 2, 2)\n",
    "dp = 2\n",
    "param1 = 100\n",
    "param2 = 80\n",
    "\n",
    "\n",
    "circles = cv.HoughCircles(gray, cv.HOUGH_GRADIENT, dp, 10, None, param1, param2, 20, 100)\n",
    "for c in circles[0,:]:\n",
    "    print(c)\n",
    "    cx, cy, r = c\n",
    "    cv.circle(src, (cx, cy), 2, (0, 255, 0), 2, 8, 0)\n",
    "    cv.circle(src, (cx, cy), r, (0, 0, 255), 2, 8, 0)\n",
    "\n",
    "\n",
    "cv.imshow(\"hough line demo\", src)\n",
    "cv.waitKey(0)\n",
    "cv.destroyAllWindows()"
   ]
  },
  {
   "cell_type": "code",
   "execution_count": null,
   "metadata": {},
   "outputs": [],
   "source": []
  }
 ],
 "metadata": {
  "kernelspec": {
   "display_name": "Python [conda env:conda-tf2.0] *",
   "language": "python",
   "name": "conda-env-conda-tf2.0-py"
  },
  "language_info": {
   "codemirror_mode": {
    "name": "ipython",
    "version": 3
   },
   "file_extension": ".py",
   "mimetype": "text/x-python",
   "name": "python",
   "nbconvert_exporter": "python",
   "pygments_lexer": "ipython3",
   "version": "3.6.9"
  }
 },
 "nbformat": 4,
 "nbformat_minor": 2
}

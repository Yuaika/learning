{
 "cells": [
  {
   "cell_type": "markdown",
   "metadata": {},
   "source": [
    "sobel算子:x_grad = cv.Sobel(src, cv.CV_32F, 1, 0)\n",
    "       y_grad = cv.Sobel(src, cv.CV_32F, 0, 1)"
   ]
  },
  {
   "cell_type": "code",
   "execution_count": 4,
   "metadata": {},
   "outputs": [],
   "source": [
    "import cv2 as cv\n",
    "import numpy as np\n",
    "\n",
    "src = cv.imread(\"C:/Users/86188/Desktop/test/other/shihuang.png\",0)\n",
    "cv.namedWindow(\"input\", cv.WINDOW_AUTOSIZE)\n",
    "cv.imshow(\"input\", src)\n",
    "\n",
    "h, w = src.shape[:2]\n",
    "x_grad = cv.Sobel(src, cv.CV_32F, 1, 0)\n",
    "y_grad = cv.Sobel(src, cv.CV_32F, 0, 1)\n",
    "\n",
    "x_grad = cv.convertScaleAbs(x_grad)\n",
    "y_grad = cv.convertScaleAbs(y_grad)\n",
    "cv.imshow(\"x_grad\", x_grad)\n",
    "cv.imshow(\"y_grad\", y_grad)\n",
    "\n",
    "dst = cv.add(x_grad, y_grad, dtype=cv.CV_16S)\n",
    "dst = cv.convertScaleAbs(dst)\n",
    "cv.imshow(\"gradient\", dst)\n",
    "\n",
    "result = np.zeros([h, w*2], dtype=src.dtype)\n",
    "result[0:h,0:w] = src\n",
    "result[0:h,w:2*w] = dst\n",
    "cv.imshow(\"result\", result)\n",
    "cv.imwrite(\"D:/result.png\", dst)\n",
    "\n",
    "cv.waitKey(0)\n",
    "cv.destroyAllWindows()"
   ]
  },
  {
   "cell_type": "code",
   "execution_count": null,
   "metadata": {},
   "outputs": [],
   "source": [
    "robert算子与prewitt算子:使用filter2D自定义滤波器"
   ]
  },
  {
   "cell_type": "code",
   "execution_count": 5,
   "metadata": {},
   "outputs": [],
   "source": [
    "import cv2 as cv\n",
    "import numpy as np\n",
    "\n",
    "src = cv.imread(\"C:/Users/86188/Desktop/test/other/shihuang.png\")\n",
    "cv.namedWindow(\"input\", cv.WINDOW_AUTOSIZE)\n",
    "cv.imshow(\"input\", src)\n",
    "\n",
    "robert_x = np.array([[1, 0],[0, -1]], dtype=np.float32)\n",
    "robert_y = np.array([[0, -1],[1, 0]], dtype=np.float32)\n",
    "\n",
    "prewitt_x = np.array([[-1, 0, 1], [-1, 0, 1], [-1, 0, 1]], dtype=np.float32)\n",
    "prewitt_y = np.array([[-1, -1, -1], [0, 0, 0], [1, 1, 1]], dtype=np.float32)\n",
    "\n",
    "robert_grad_x = cv.filter2D(src, cv.CV_16S, robert_x)\n",
    "robert_grad_y = cv.filter2D(src, cv.CV_16S, robert_y)\n",
    "robert_grad_x = cv.convertScaleAbs(robert_grad_x)\n",
    "robert_grad_y = cv.convertScaleAbs(robert_grad_y)\n",
    "\n",
    "prewitt_grad_x = cv.filter2D(src, cv.CV_32F, prewitt_x)\n",
    "prewitt_grad_y = cv.filter2D(src, cv.CV_32F, prewitt_y)\n",
    "prewitt_grad_x = cv.convertScaleAbs(prewitt_grad_x)\n",
    "prewitt_grad_y = cv.convertScaleAbs(prewitt_grad_y)\n",
    "\n",
    "# cv.imshow(\"robert x\", robert_grad_x);\n",
    "# cv.imshow(\"robert y\", robert_grad_y);\n",
    "# cv.imshow(\"prewitt x\", prewitt_grad_x);\n",
    "# cv.imshow(\"prewitt y\", prewitt_grad_y);\n",
    "\n",
    "h, w = src.shape[:2]\n",
    "robert_result = np.zeros([h, w*2, 3], dtype=src.dtype)\n",
    "robert_result[0:h,0:w,:] = robert_grad_x\n",
    "robert_result[0:h,w:2*w,:] = robert_grad_y\n",
    "cv.imshow(\"robert_result\", robert_result)\n",
    "\n",
    "prewitt_result = np.zeros([h, w*2, 3], dtype=src.dtype)\n",
    "prewitt_result[0:h,0:w,:] = prewitt_grad_x\n",
    "prewitt_result[0:h,w:2*w,:] = prewitt_grad_y\n",
    "cv.imshow(\"prewitt_result\", prewitt_result)\n",
    "\n",
    "cv.waitKey(0)\n",
    "cv.destroyAllWindows()"
   ]
  },
  {
   "cell_type": "code",
   "execution_count": null,
   "metadata": {},
   "outputs": [],
   "source": [
    "拉普拉斯算子：dst = cv.Laplacian(src, cv.CV_32F, ksize=3, delta=127)"
   ]
  },
  {
   "cell_type": "code",
   "execution_count": 6,
   "metadata": {},
   "outputs": [],
   "source": [
    "import cv2 as cv\n",
    "import numpy as np\n",
    "\n",
    "image = cv.imread(\"C:/Users/86188/Desktop/test/other/shihuang.png\")\n",
    "cv.namedWindow(\"input\", cv.WINDOW_AUTOSIZE)\n",
    "cv.imshow(\"input\", image)\n",
    "\n",
    "h, w = image.shape[:2]\n",
    "src = cv.GaussianBlur(image, (0, 0), 1)\n",
    "dst = cv.Laplacian(src, cv.CV_32F, ksize=3, delta=127)\n",
    "dst = cv.convertScaleAbs(dst)\n",
    "result = np.zeros([h, w*2, 3], dtype=image.dtype)\n",
    "result[0:h,0:w,:] = image\n",
    "result[0:h,w:2*w,:] = dst\n",
    "cv.imshow(\"result\", result)\n",
    "cv.imwrite(\"D:/laplacian_08.png\", result)\n",
    "\n",
    "\n",
    "cv.waitKey(0)\n",
    "cv.destroyAllWindows()"
   ]
  },
  {
   "cell_type": "code",
   "execution_count": null,
   "metadata": {},
   "outputs": [],
   "source": [
    "图像锐化："
   ]
  },
  {
   "cell_type": "code",
   "execution_count": 7,
   "metadata": {},
   "outputs": [],
   "source": [
    "import cv2 as cv\n",
    "import numpy as np\n",
    "\n",
    "src = cv.imread(\"C:/Users/86188/Desktop/test/other/shihuang.png\")\n",
    "cv.namedWindow(\"input\", cv.WINDOW_AUTOSIZE)\n",
    "cv.imshow(\"input\", src)\n",
    "\n",
    "# sharpen_op = np.array([[-1, -1, -1], [-1, 9, -1], [-1, -1, -1]], dtype=np.float32)\n",
    "sharpen_op = np.array([[0, -1, 0], [-1, 5, -1], [0, -1, 0]], dtype=np.float32)\n",
    "sharpen_image = cv.filter2D(src, cv.CV_32F, sharpen_op)\n",
    "sharpen_image = cv.convertScaleAbs(sharpen_image)\n",
    "cv.imshow(\"sharpen_image\", sharpen_image)\n",
    "\n",
    "h, w = src.shape[:2]\n",
    "result = np.zeros([h, w*2, 3], dtype=src.dtype)\n",
    "result[0:h,0:w,:] = src\n",
    "result[0:h,w:2*w,:] = sharpen_image\n",
    "cv.putText(result, \"original image\", (10, 30), cv.FONT_ITALIC, 1.0, (0, 0, 255), 2)\n",
    "cv.putText(result, \"sharpen image\", (w+10, 30), cv.FONT_ITALIC, 1.0, (0, 0, 255), 2)\n",
    "cv.imshow(\"sharpen_image\", result)\n",
    "\n",
    "cv.waitKey(0)\n",
    "cv.destroyAllWindows()"
   ]
  },
  {
   "cell_type": "code",
   "execution_count": null,
   "metadata": {},
   "outputs": [],
   "source": [
    "USM-锐化增强算法:(源图像– w*高斯模糊）/（1-w）"
   ]
  },
  {
   "cell_type": "code",
   "execution_count": 8,
   "metadata": {},
   "outputs": [],
   "source": [
    "import cv2 as cv\n",
    "import numpy as np\n",
    "\n",
    "src = cv.imread(\"C:/Users/86188/Desktop/test/other/shihuang.png\")\n",
    "cv.namedWindow(\"input\", cv.WINDOW_AUTOSIZE)\n",
    "cv.imshow(\"input\", src)\n",
    "\n",
    "# sigma = 5、15、25\n",
    "blur_img = cv.GaussianBlur(src, (0, 0), 5)\n",
    "usm = cv.addWeighted(src, 1.5, blur_img, -0.5, 0)\n",
    "cv.imshow(\"mask image\", usm)\n",
    "\n",
    "h, w = src.shape[:2]\n",
    "result = np.zeros([h, w*2, 3], dtype=src.dtype)\n",
    "result[0:h,0:w,:] = src\n",
    "result[0:h,w:2*w,:] = usm\n",
    "cv.putText(result, \"original image\", (10, 30), cv.FONT_ITALIC, 1.0, (0, 0, 255), 2)\n",
    "cv.putText(result, \"sharpen image\", (w+10, 30), cv.FONT_ITALIC, 1.0, (0, 0, 255), 2)\n",
    "cv.imshow(\"sharpen_image\", result)\n",
    "\n",
    "cv.waitKey(0)\n",
    "cv.destroyAllWindows()"
   ]
  },
  {
   "cell_type": "code",
   "execution_count": null,
   "metadata": {},
   "outputs": [],
   "source": [
    "Canny算子：cv.Canny(src,100,300)"
   ]
  },
  {
   "cell_type": "code",
   "execution_count": 1,
   "metadata": {},
   "outputs": [],
   "source": [
    "import cv2 as cv\n",
    "import numpy as np\n",
    "\n",
    "src = cv.imread(\"C:/Users/86188/Desktop/test/other/shihuang.png\")\n",
    "cv.namedWindow(\"input\", cv.WINDOW_AUTOSIZE)\n",
    "cv.imshow(\"input\", src)\n",
    "\n",
    "# t1 = 100, t2 = 3*t1 = 300\n",
    "edge = cv.Canny(src, 100, 300)\n",
    "cv.imshow(\"mask image\", edge)\n",
    "cv.imwrite(\"D:/edge.png\", edge)\n",
    "edge_src = cv.bitwise_and(src, src, mask=edge)\n",
    "\n",
    "h, w = src.shape[:2]\n",
    "result = np.zeros([h, w*2, 3], dtype=src.dtype)\n",
    "result[0:h,0:w,:] = src\n",
    "result[0:h,w:2*w,:] = edge_src\n",
    "cv.putText(result, \"original image\", (10, 30), cv.FONT_ITALIC, 1.0, (0, 0, 255), 2)\n",
    "cv.putText(result, \"edge image\", (w+10, 30), cv.FONT_ITALIC, 1.0, (0, 0, 255), 2)\n",
    "cv.imshow(\"edge detector\", result)\n",
    "cv.imwrite(\"D:/result.png\", result)\n",
    "\n",
    "cv.waitKey(0)\n",
    "cv.destroyAllWindows()"
   ]
  },
  {
   "cell_type": "code",
   "execution_count": null,
   "metadata": {},
   "outputs": [],
   "source": [
    "图像金字塔"
   ]
  },
  {
   "cell_type": "code",
   "execution_count": 4,
   "metadata": {},
   "outputs": [
    {
     "name": "stdout",
     "output_type": "stream",
     "text": [
      "level =  5\n"
     ]
    }
   ],
   "source": [
    "import cv2 as cv\n",
    "import numpy as np\n",
    "\n",
    "def pyramid_down(pyramid_images):\n",
    "    level = len(pyramid_images)\n",
    "    print(\"level = \",level)\n",
    "    for i in range(level-1, -1, -1):\n",
    "        expand = cv.pyrUp(pyramid_images[i])\n",
    "        cv.imshow(\"pyramid_down_\"+str(i), expand)\n",
    "\n",
    "\n",
    "def pyramid_up(image, level=3):\n",
    "    temp = image.copy()\n",
    "    # cv.imshow(\"input\", image)\n",
    "    pyramid_images = []\n",
    "    for i in range(level):\n",
    "        dst = cv.pyrDown(temp)\n",
    "        pyramid_images.append(dst)\n",
    "        # cv.imshow(\"pyramid_up_\" + str(i), dst)\n",
    "        temp = dst.copy()\n",
    "    return pyramid_images\n",
    "\n",
    "\n",
    "src = cv.imread(\"C:/Users/86188/Desktop/test/other/shihuang.png\")\n",
    "cv.namedWindow(\"input\", cv.WINDOW_AUTOSIZE)\n",
    "cv.imshow(\"input\", src)\n",
    "# pyramid_up(src)\n",
    "pyramid_down(pyramid_up(src,5))\n",
    "\n",
    "cv.waitKey(0)\n",
    "cv.destroyAllWindows()"
   ]
  },
  {
   "cell_type": "code",
   "execution_count": null,
   "metadata": {},
   "outputs": [],
   "source": [
    "拉普拉斯金字塔"
   ]
  },
  {
   "cell_type": "code",
   "execution_count": 6,
   "metadata": {},
   "outputs": [],
   "source": [
    "import cv2 as cv\n",
    "import numpy as np\n",
    "\n",
    "\n",
    "def laplaian_demo(pyramid_images):\n",
    "    level = len(pyramid_images)\n",
    "    for i in range(level-1, -1, -1):\n",
    "        if (i-1) < 0:\n",
    "            h, w = src.shape[:2]\n",
    "            expand = cv.pyrUp(pyramid_images[i], dstsize=(w, h))\n",
    "            lpls = cv.subtract(src, expand) + 127\n",
    "            cv.imshow(\"lpls_\" + str(i), lpls)\n",
    "        else:\n",
    "            h, w = pyramid_images[i-1].shape[:2]\n",
    "            expand = cv.pyrUp(pyramid_images[i], dstsize=(w, h))\n",
    "            lpls = cv.subtract(pyramid_images[i-1], expand) + 127\n",
    "            cv.imshow(\"lpls_\"+str(i), lpls)\n",
    "\n",
    "\n",
    "def pyramid_up(image, level=3):\n",
    "    temp = image.copy()\n",
    "    # cv.imshow(\"input\", image)\n",
    "    pyramid_images = []\n",
    "    for i in range(level):\n",
    "        dst = cv.pyrDown(temp)\n",
    "        pyramid_images.append(dst)\n",
    "        # cv.imshow(\"pyramid_up_\" + str(i), dst)\n",
    "        temp = dst.copy()\n",
    "    return pyramid_images\n",
    "\n",
    "\n",
    "src = cv.imread(\"C:/Users/86188/Desktop/test/other/shihuang.png\",0)\n",
    "cv.namedWindow(\"input\", cv.WINDOW_AUTOSIZE)\n",
    "cv.imshow(\"input\", src)\n",
    "# pyramid_up(src)\n",
    "laplaian_demo(pyramid_up(src))\n",
    "\n",
    "cv.waitKey(0)\n",
    "cv.destroyAllWindows()"
   ]
  },
  {
   "cell_type": "code",
   "execution_count": null,
   "metadata": {},
   "outputs": [],
   "source": [
    "图像模板匹配"
   ]
  },
  {
   "cell_type": "code",
   "execution_count": 9,
   "metadata": {},
   "outputs": [],
   "source": [
    "import cv2 as cv\n",
    "import numpy as np\n",
    "\n",
    "\n",
    "def template_demo():\n",
    "    src = cv.imread(\"C:/Users/86188/Desktop/test/other/llk.jpg\")\n",
    "    tpl = cv.imread(\"C:/Users/86188/Desktop/test/other/llk_tpl.png\")\n",
    "    cv.imshow(\"input\", src)\n",
    "    cv.imshow(\"tpl\", tpl)\n",
    "    th, tw = tpl.shape[:2]\n",
    "    result = cv.matchTemplate(src, tpl, cv.TM_CCORR_NORMED)\n",
    "    cv.imshow(\"result\", result)\n",
    "    cv.imwrite(\"C:/Users/86188/Desktop/039_003.png\", np.uint8(result*255))\n",
    "    t = 0.98\n",
    "    loc = np.where(result > t)\n",
    "\n",
    "    for pt in zip(*loc[::-1]):\n",
    "        cv.rectangle(src, pt, (pt[0] + tw, pt[1] + th), (255, 0, 0), 1, 8, 0)\n",
    "    cv.imshow(\"llk-demo\", src)\n",
    "    cv.imwrite(\"D:/039_004.png\", src)\n",
    "\n",
    "\n",
    "template_demo()\n",
    "cv.waitKey(0)\n",
    "cv.destroyAllWindows()"
   ]
  },
  {
   "cell_type": "code",
   "execution_count": null,
   "metadata": {},
   "outputs": [],
   "source": []
  }
 ],
 "metadata": {
  "kernelspec": {
   "display_name": "Python [conda env:conda-tf2.0] *",
   "language": "python",
   "name": "conda-env-conda-tf2.0-py"
  },
  "language_info": {
   "codemirror_mode": {
    "name": "ipython",
    "version": 3
   },
   "file_extension": ".py",
   "mimetype": "text/x-python",
   "name": "python",
   "nbconvert_exporter": "python",
   "pygments_lexer": "ipython3",
   "version": "3.6.9"
  }
 },
 "nbformat": 4,
 "nbformat_minor": 2
}
